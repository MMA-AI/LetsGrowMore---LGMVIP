{
 "cells": [
  {
   "cell_type": "markdown",
   "metadata": {
    "papermill": {
     "duration": 0.026596,
     "end_time": "2021-01-09T15:15:14.890818",
     "exception": false,
     "start_time": "2021-01-09T15:15:14.864222",
     "status": "completed"
    },
    "tags": []
   },
   "source": [
    "### In this notebook, we will use convolutional neural networks to classify letters written by hand.\n",
    "\n",
    "We will see how to:\n",
    "- Preprocess images and metadata\n",
    "- Configure CNN\n",
    "- Use callbacks performing various actions during CNN training\n",
    "- Plot the training info \n",
    "- Plot the model's predictions on test images\n",
    "- Save the model to disk"
   ]
  },
  {
   "cell_type": "code",
   "execution_count": 1,
   "metadata": {
    "execution": {
     "iopub.execute_input": "2021-01-09T15:15:14.963073Z",
     "iopub.status.busy": "2021-01-09T15:15:14.962342Z",
     "iopub.status.idle": "2021-01-09T15:15:20.229128Z",
     "shell.execute_reply": "2021-01-09T15:15:20.228085Z"
    },
    "executionInfo": {
     "elapsed": 627,
     "status": "ok",
     "timestamp": 1605818394458,
     "user": {
      "displayName": "Maya Bikmetova",
      "photoUrl": "https://lh5.googleusercontent.com/-QRgiu4M7ecc/AAAAAAAAAAI/AAAAAAAAAK8/sZiY_g9q3yY/s64/photo.jpg",
      "userId": "15065936059830327605"
     },
     "user_tz": -300
    },
    "id": "RmIRkL8gb2Oz",
    "papermill": {
     "duration": 5.312625,
     "end_time": "2021-01-09T15:15:20.229240",
     "exception": false,
     "start_time": "2021-01-09T15:15:14.916615",
     "status": "completed"
    },
    "tags": []
   },
   "outputs": [],
   "source": [
    "import numpy as np \n",
    "import pandas as pd\n",
    "import tensorflow as tf\n",
    "import random\n",
    "import os\n",
    "\n",
    "from PIL import ImageFile\n",
    "from tqdm import tqdm\n",
    "import h5py\n",
    "import cv2\n",
    "\n",
    "import matplotlib.pylab as plt\n",
    "from matplotlib import cm\n",
    "%matplotlib inline\n",
    "\n",
    "from sklearn.utils import shuffle\n",
    "from sklearn.model_selection import train_test_split\n",
    "from sklearn.ensemble import GradientBoostingClassifier, RandomForestClassifier\n",
    "\n",
    "from keras.utils import to_categorical\n",
    "from keras.preprocessing import image as keras_image\n",
    "from keras.callbacks import ModelCheckpoint, EarlyStopping, ReduceLROnPlateau\n",
    "from keras.preprocessing.image import ImageDataGenerator\n",
    "from tensorflow.keras.preprocessing import image\n",
    "from tensorflow.keras.utils import plot_model\n",
    "from tensorflow.keras import models\n",
    "from tensorflow.keras.preprocessing.image import load_img\n",
    "from tensorflow.keras.preprocessing.image import img_to_array\n",
    "from tensorflow.keras.metrics import top_k_categorical_accuracy,categorical_accuracy\n",
    "\n",
    "from keras.models import Sequential, load_model, Model\n",
    "from keras.layers import Input, BatchNormalization\n",
    "from keras.layers import Dense, LSTM, GlobalAveragePooling1D, GlobalAveragePooling2D\n",
    "from keras.layers import Activation, Flatten, Dropout, BatchNormalization\n",
    "from keras.layers import Conv2D, MaxPooling2D, GlobalMaxPooling2D\n",
    "from keras.layers.advanced_activations import PReLU, LeakyReLU\n",
    "\n",
    "from keras.applications.inception_v3 import InceptionV3, preprocess_input\n",
    "import scipy\n",
    "from scipy import misc\n",
    "\n",
    "import warnings\n",
    "warnings.filterwarnings('ignore')"
   ]
  },
  {
   "cell_type": "code",
   "execution_count": 2,
   "metadata": {
    "execution": {
     "iopub.execute_input": "2021-01-09T15:15:20.288603Z",
     "iopub.status.busy": "2021-01-09T15:15:20.287822Z",
     "iopub.status.idle": "2021-01-09T15:15:20.291130Z",
     "shell.execute_reply": "2021-01-09T15:15:20.291562Z"
    },
    "executionInfo": {
     "elapsed": 1725,
     "status": "ok",
     "timestamp": 1605809565154,
     "user": {
      "displayName": "Maya Bikmetova",
      "photoUrl": "https://lh5.googleusercontent.com/-QRgiu4M7ecc/AAAAAAAAAAI/AAAAAAAAAK8/sZiY_g9q3yY/s64/photo.jpg",
      "userId": "15065936059830327605"
     },
     "user_tz": -300
    },
    "id": "ScNIEZ_6dEmQ",
    "outputId": "4b5d4f99-f5c2-47e8-d9a1-c2153a900ab4",
    "papermill": {
     "duration": 0.036183,
     "end_time": "2021-01-09T15:15:20.291673",
     "exception": false,
     "start_time": "2021-01-09T15:15:20.255490",
     "status": "completed"
    },
    "tags": []
   },
   "outputs": [
    {
     "data": {
      "text/plain": [
       "'2.3.1'"
      ]
     },
     "execution_count": 2,
     "metadata": {},
     "output_type": "execute_result"
    }
   ],
   "source": [
    "#check version of library\n",
    "import tensorflow as tf\n",
    "tf.__version__"
   ]
  },
  {
   "cell_type": "code",
   "execution_count": 3,
   "metadata": {
    "execution": {
     "iopub.execute_input": "2021-01-09T15:15:20.387938Z",
     "iopub.status.busy": "2021-01-09T15:15:20.386245Z",
     "iopub.status.idle": "2021-01-09T15:15:20.388627Z",
     "shell.execute_reply": "2021-01-09T15:15:20.389037Z"
    },
    "executionInfo": {
     "elapsed": 647,
     "status": "ok",
     "timestamp": 1605812362421,
     "user": {
      "displayName": "Maya Bikmetova",
      "photoUrl": "https://lh5.googleusercontent.com/-QRgiu4M7ecc/AAAAAAAAAAI/AAAAAAAAAK8/sZiY_g9q3yY/s64/photo.jpg",
      "userId": "15065936059830327605"
     },
     "user_tz": -300
    },
    "id": "Oam1OF_wcAvW",
    "papermill": {
     "duration": 0.034246,
     "end_time": "2021-01-09T15:15:20.389163",
     "exception": false,
     "start_time": "2021-01-09T15:15:20.354917",
     "status": "completed"
    },
    "tags": []
   },
   "outputs": [],
   "source": [
    "disk_folder=\"/kaggle/working/\"\n",
    "folder='/kaggle/input/classification-of-handwritten-letters/'"
   ]
  },
  {
   "cell_type": "markdown",
   "metadata": {
    "id": "Le40Iv2hzPGa",
    "papermill": {
     "duration": 0.026096,
     "end_time": "2021-01-09T15:15:20.441457",
     "exception": false,
     "start_time": "2021-01-09T15:15:20.415361",
     "status": "completed"
    },
    "tags": []
   },
   "source": [
    "### Loading the dataframe containing the information about the images"
   ]
  },
  {
   "cell_type": "code",
   "execution_count": 4,
   "metadata": {
    "execution": {
     "iopub.execute_input": "2021-01-09T15:15:20.498453Z",
     "iopub.status.busy": "2021-01-09T15:15:20.497596Z",
     "iopub.status.idle": "2021-01-09T15:15:20.501846Z",
     "shell.execute_reply": "2021-01-09T15:15:20.501406Z"
    },
    "executionInfo": {
     "elapsed": 995,
     "status": "ok",
     "timestamp": 1605811136837,
     "user": {
      "displayName": "Maya Bikmetova",
      "photoUrl": "https://lh5.googleusercontent.com/-QRgiu4M7ecc/AAAAAAAAAAI/AAAAAAAAAK8/sZiY_g9q3yY/s64/photo.jpg",
      "userId": "15065936059830327605"
     },
     "user_tz": -300
    },
    "id": "unkpPXgyiabh",
    "papermill": {
     "duration": 0.034448,
     "end_time": "2021-01-09T15:15:20.501964",
     "exception": false,
     "start_time": "2021-01-09T15:15:20.467516",
     "status": "completed"
    },
    "tags": []
   },
   "outputs": [],
   "source": [
    "data_info =  ['letters.csv', 'letters2.csv', 'letters3.csv']"
   ]
  },
  {
   "cell_type": "code",
   "execution_count": 5,
   "metadata": {
    "execution": {
     "iopub.execute_input": "2021-01-09T15:15:20.561334Z",
     "iopub.status.busy": "2021-01-09T15:15:20.560693Z",
     "iopub.status.idle": "2021-01-09T15:15:20.564249Z",
     "shell.execute_reply": "2021-01-09T15:15:20.564640Z"
    },
    "executionInfo": {
     "elapsed": 590,
     "status": "ok",
     "timestamp": 1605811606078,
     "user": {
      "displayName": "Maya Bikmetova",
      "photoUrl": "https://lh5.googleusercontent.com/-QRgiu4M7ecc/AAAAAAAAAAI/AAAAAAAAAK8/sZiY_g9q3yY/s64/photo.jpg",
      "userId": "15065936059830327605"
     },
     "user_tz": -300
    },
    "id": "aoSVvY-10HK0",
    "papermill": {
     "duration": 0.035829,
     "end_time": "2021-01-09T15:15:20.564755",
     "exception": false,
     "start_time": "2021-01-09T15:15:20.528926",
     "status": "completed"
    },
    "tags": []
   },
   "outputs": [],
   "source": [
    "def import_data(data_info):\n",
    "\n",
    "  \"\"\"Creates an additional column: the path to the image\"\"\"\n",
    "  data = pd.read_csv(folder + '/' + data_info)\n",
    "  data['source'] = data_info[:-4]+'/'\n",
    "  return data"
   ]
  },
  {
   "cell_type": "code",
   "execution_count": 6,
   "metadata": {
    "execution": {
     "iopub.execute_input": "2021-01-09T15:15:20.638593Z",
     "iopub.status.busy": "2021-01-09T15:15:20.637897Z",
     "iopub.status.idle": "2021-01-09T15:15:20.706118Z",
     "shell.execute_reply": "2021-01-09T15:15:20.705048Z"
    },
    "executionInfo": {
     "elapsed": 551,
     "status": "ok",
     "timestamp": 1605811607135,
     "user": {
      "displayName": "Maya Bikmetova",
      "photoUrl": "https://lh5.googleusercontent.com/-QRgiu4M7ecc/AAAAAAAAAAI/AAAAAAAAAK8/sZiY_g9q3yY/s64/photo.jpg",
      "userId": "15065936059830327605"
     },
     "user_tz": -300
    },
    "id": "UgkpW2fJi1z8",
    "papermill": {
     "duration": 0.114932,
     "end_time": "2021-01-09T15:15:20.706237",
     "exception": false,
     "start_time": "2021-01-09T15:15:20.591305",
     "status": "completed"
    },
    "tags": []
   },
   "outputs": [],
   "source": [
    "letters = [import_data(file) for file in data_info]\n",
    "data = pd.concat(letters, ignore_index=True)"
   ]
  },
  {
   "cell_type": "code",
   "execution_count": 7,
   "metadata": {
    "execution": {
     "iopub.execute_input": "2021-01-09T15:15:20.765475Z",
     "iopub.status.busy": "2021-01-09T15:15:20.764843Z",
     "iopub.status.idle": "2021-01-09T15:15:20.773016Z",
     "shell.execute_reply": "2021-01-09T15:15:20.772535Z"
    },
    "executionInfo": {
     "elapsed": 608,
     "status": "ok",
     "timestamp": 1605811923383,
     "user": {
      "displayName": "Maya Bikmetova",
      "photoUrl": "https://lh5.googleusercontent.com/-QRgiu4M7ecc/AAAAAAAAAAI/AAAAAAAAAK8/sZiY_g9q3yY/s64/photo.jpg",
      "userId": "15065936059830327605"
     },
     "user_tz": -300
    },
    "id": "Ypc64IyQ2DcX",
    "papermill": {
     "duration": 0.04024,
     "end_time": "2021-01-09T15:15:20.773130",
     "exception": false,
     "start_time": "2021-01-09T15:15:20.732890",
     "status": "completed"
    },
    "tags": []
   },
   "outputs": [],
   "source": [
    "# Shuffle the data \n",
    "\n",
    "data = shuffle(data, random_state = 42)"
   ]
  },
  {
   "cell_type": "code",
   "execution_count": 8,
   "metadata": {
    "execution": {
     "iopub.execute_input": "2021-01-09T15:15:20.836331Z",
     "iopub.status.busy": "2021-01-09T15:15:20.835583Z",
     "iopub.status.idle": "2021-01-09T15:15:20.843892Z",
     "shell.execute_reply": "2021-01-09T15:15:20.843462Z"
    },
    "executionInfo": {
     "elapsed": 595,
     "status": "ok",
     "timestamp": 1605811942022,
     "user": {
      "displayName": "Maya Bikmetova",
      "photoUrl": "https://lh5.googleusercontent.com/-QRgiu4M7ecc/AAAAAAAAAAI/AAAAAAAAAK8/sZiY_g9q3yY/s64/photo.jpg",
      "userId": "15065936059830327605"
     },
     "user_tz": -300
    },
    "id": "_PQZQEMwiagx",
    "outputId": "cc17ffd9-192c-402a-c16b-7eacbb81abba",
    "papermill": {
     "duration": 0.043292,
     "end_time": "2021-01-09T15:15:20.843987",
     "exception": false,
     "start_time": "2021-01-09T15:15:20.800695",
     "status": "completed"
    },
    "tags": []
   },
   "outputs": [
    {
     "data": {
      "text/html": [
       "<div>\n",
       "<style scoped>\n",
       "    .dataframe tbody tr th:only-of-type {\n",
       "        vertical-align: middle;\n",
       "    }\n",
       "\n",
       "    .dataframe tbody tr th {\n",
       "        vertical-align: top;\n",
       "    }\n",
       "\n",
       "    .dataframe thead th {\n",
       "        text-align: right;\n",
       "    }\n",
       "</style>\n",
       "<table border=\"1\" class=\"dataframe\">\n",
       "  <thead>\n",
       "    <tr style=\"text-align: right;\">\n",
       "      <th></th>\n",
       "      <th>letter</th>\n",
       "      <th>label</th>\n",
       "      <th>file</th>\n",
       "      <th>background</th>\n",
       "      <th>source</th>\n",
       "    </tr>\n",
       "  </thead>\n",
       "  <tbody>\n",
       "    <tr>\n",
       "      <th>6491</th>\n",
       "      <td>щ</td>\n",
       "      <td>27</td>\n",
       "      <td>27_212.png</td>\n",
       "      <td>2</td>\n",
       "      <td>letters2/</td>\n",
       "    </tr>\n",
       "    <tr>\n",
       "      <th>2012</th>\n",
       "      <td>в</td>\n",
       "      <td>3</td>\n",
       "      <td>03_53.png</td>\n",
       "      <td>2</td>\n",
       "      <td>letters2/</td>\n",
       "    </tr>\n",
       "    <tr>\n",
       "      <th>13295</th>\n",
       "      <td>ы</td>\n",
       "      <td>29</td>\n",
       "      <td>29_336.png</td>\n",
       "      <td>3</td>\n",
       "      <td>letters3/</td>\n",
       "    </tr>\n",
       "  </tbody>\n",
       "</table>\n",
       "</div>"
      ],
      "text/plain": [
       "      letter  label        file  background     source\n",
       "6491       щ     27  27_212.png           2  letters2/\n",
       "2012       в      3   03_53.png           2  letters2/\n",
       "13295      ы     29  29_336.png           3  letters3/"
      ]
     },
     "execution_count": 8,
     "metadata": {},
     "output_type": "execute_result"
    }
   ],
   "source": [
    "data.head(3)"
   ]
  },
  {
   "cell_type": "markdown",
   "metadata": {
    "id": "dJO8NWg7zgdE",
    "papermill": {
     "duration": 0.027225,
     "end_time": "2021-01-09T15:15:20.898487",
     "exception": false,
     "start_time": "2021-01-09T15:15:20.871262",
     "status": "completed"
    },
    "tags": []
   },
   "source": [
    "We see that our dataset contains the following information: the letter, the encoded label, the filename, the background on the paper and the path to the file."
   ]
  },
  {
   "cell_type": "markdown",
   "metadata": {
    "id": "avAOnAcglUYC",
    "papermill": {
     "duration": 0.044995,
     "end_time": "2021-01-09T15:15:20.971249",
     "exception": false,
     "start_time": "2021-01-09T15:15:20.926254",
     "status": "completed"
    },
    "tags": []
   },
   "source": [
    "### Target preprocessing \n",
    "\n",
    "Since we are going to use neural networks, it would be better to use One-hot encoding rather than ordinal. One-hot encoding means that each class (letter) will be represented by a separate column. The values will be either 0 or 1 depending on whether the image contains the letter."
   ]
  },
  {
   "cell_type": "code",
   "execution_count": 9,
   "metadata": {
    "execution": {
     "iopub.execute_input": "2021-01-09T15:15:21.077089Z",
     "iopub.status.busy": "2021-01-09T15:15:21.075875Z",
     "iopub.status.idle": "2021-01-09T15:15:21.085017Z",
     "shell.execute_reply": "2021-01-09T15:15:21.086219Z"
    },
    "executionInfo": {
     "elapsed": 607,
     "status": "ok",
     "timestamp": 1605811948607,
     "user": {
      "displayName": "Maya Bikmetova",
      "photoUrl": "https://lh5.googleusercontent.com/-QRgiu4M7ecc/AAAAAAAAAAI/AAAAAAAAAK8/sZiY_g9q3yY/s64/photo.jpg",
      "userId": "15065936059830327605"
     },
     "user_tz": -300
    },
    "id": "WlBSCiAOma3j",
    "papermill": {
     "duration": 0.067736,
     "end_time": "2021-01-09T15:15:21.086417",
     "exception": false,
     "start_time": "2021-01-09T15:15:21.018681",
     "status": "completed"
    },
    "tags": []
   },
   "outputs": [],
   "source": [
    "# Get all labels in one string\n",
    "letters = '' \n",
    "for letter in data.letter.unique():\n",
    "    letters += letter\n",
    "    \n",
    "# Which letter is written on each image\n",
    "labels = data.label"
   ]
  },
  {
   "cell_type": "code",
   "execution_count": 10,
   "metadata": {
    "execution": {
     "iopub.execute_input": "2021-01-09T15:15:21.199775Z",
     "iopub.status.busy": "2021-01-09T15:15:21.195860Z",
     "iopub.status.idle": "2021-01-09T15:15:21.201085Z",
     "shell.execute_reply": "2021-01-09T15:15:21.202018Z"
    },
    "executionInfo": {
     "elapsed": 628,
     "status": "ok",
     "timestamp": 1605811951309,
     "user": {
      "displayName": "Maya Bikmetova",
      "photoUrl": "https://lh5.googleusercontent.com/-QRgiu4M7ecc/AAAAAAAAAAI/AAAAAAAAAK8/sZiY_g9q3yY/s64/photo.jpg",
      "userId": "15065936059830327605"
     },
     "user_tz": -300
    },
    "id": "WhCzAd05iakg",
    "papermill": {
     "duration": 0.063435,
     "end_time": "2021-01-09T15:15:21.202216",
     "exception": false,
     "start_time": "2021-01-09T15:15:21.138781",
     "status": "completed"
    },
    "tags": []
   },
   "outputs": [],
   "source": [
    "def ohe_letter(label):\n",
    "    result = np.zeros(len(letters))\n",
    "    index = letters.index(label)\n",
    "    result[index] = 1\n",
    "    return result\n",
    "\n",
    "def ohe_background(label):\n",
    "    result = np.zeros(len(data.background.unique()))\n",
    "    result[label] = 1\n",
    "    return result"
   ]
  },
  {
   "cell_type": "code",
   "execution_count": 11,
   "metadata": {
    "execution": {
     "iopub.execute_input": "2021-01-09T15:15:21.322287Z",
     "iopub.status.busy": "2021-01-09T15:15:21.321485Z",
     "iopub.status.idle": "2021-01-09T15:15:23.242899Z",
     "shell.execute_reply": "2021-01-09T15:15:23.241943Z"
    },
    "executionInfo": {
     "elapsed": 2110,
     "status": "ok",
     "timestamp": 1605812039015,
     "user": {
      "displayName": "Maya Bikmetova",
      "photoUrl": "https://lh5.googleusercontent.com/-QRgiu4M7ecc/AAAAAAAAAAI/AAAAAAAAAK8/sZiY_g9q3yY/s64/photo.jpg",
      "userId": "15065936059830327605"
     },
     "user_tz": -300
    },
    "id": "9eQWSUb9ianD",
    "outputId": "9f920d1a-2967-414d-be92-a2bd9f4544e9",
    "papermill": {
     "duration": 1.984672,
     "end_time": "2021-01-09T15:15:23.243005",
     "exception": false,
     "start_time": "2021-01-09T15:15:21.258333",
     "status": "completed"
    },
    "tags": []
   },
   "outputs": [
    {
     "data": {
      "text/html": [
       "<div>\n",
       "<style scoped>\n",
       "    .dataframe tbody tr th:only-of-type {\n",
       "        vertical-align: middle;\n",
       "    }\n",
       "\n",
       "    .dataframe tbody tr th {\n",
       "        vertical-align: top;\n",
       "    }\n",
       "\n",
       "    .dataframe thead th {\n",
       "        text-align: right;\n",
       "    }\n",
       "</style>\n",
       "<table border=\"1\" class=\"dataframe\">\n",
       "  <thead>\n",
       "    <tr style=\"text-align: right;\">\n",
       "      <th></th>\n",
       "      <th>letter</th>\n",
       "      <th>label</th>\n",
       "      <th>file</th>\n",
       "      <th>background</th>\n",
       "      <th>source</th>\n",
       "      <th>enc_letter</th>\n",
       "      <th>enc_background</th>\n",
       "    </tr>\n",
       "  </thead>\n",
       "  <tbody>\n",
       "    <tr>\n",
       "      <th>6491</th>\n",
       "      <td>щ</td>\n",
       "      <td>27</td>\n",
       "      <td>27_212.png</td>\n",
       "      <td>2</td>\n",
       "      <td>letters2/</td>\n",
       "      <td>[1.0, 0.0, 0.0, 0.0, 0.0, 0.0, 0.0, 0.0, 0.0, ...</td>\n",
       "      <td>[0.0, 0.0, 1.0, 0.0]</td>\n",
       "    </tr>\n",
       "    <tr>\n",
       "      <th>2012</th>\n",
       "      <td>в</td>\n",
       "      <td>3</td>\n",
       "      <td>03_53.png</td>\n",
       "      <td>2</td>\n",
       "      <td>letters2/</td>\n",
       "      <td>[0.0, 1.0, 0.0, 0.0, 0.0, 0.0, 0.0, 0.0, 0.0, ...</td>\n",
       "      <td>[0.0, 0.0, 1.0, 0.0]</td>\n",
       "    </tr>\n",
       "    <tr>\n",
       "      <th>13295</th>\n",
       "      <td>ы</td>\n",
       "      <td>29</td>\n",
       "      <td>29_336.png</td>\n",
       "      <td>3</td>\n",
       "      <td>letters3/</td>\n",
       "      <td>[0.0, 0.0, 1.0, 0.0, 0.0, 0.0, 0.0, 0.0, 0.0, ...</td>\n",
       "      <td>[0.0, 0.0, 0.0, 1.0]</td>\n",
       "    </tr>\n",
       "    <tr>\n",
       "      <th>11270</th>\n",
       "      <td>с</td>\n",
       "      <td>19</td>\n",
       "      <td>19_311.png</td>\n",
       "      <td>3</td>\n",
       "      <td>letters3/</td>\n",
       "      <td>[0.0, 0.0, 0.0, 1.0, 0.0, 0.0, 0.0, 0.0, 0.0, ...</td>\n",
       "      <td>[0.0, 0.0, 0.0, 1.0]</td>\n",
       "    </tr>\n",
       "    <tr>\n",
       "      <th>12837</th>\n",
       "      <td>щ</td>\n",
       "      <td>27</td>\n",
       "      <td>27_278.png</td>\n",
       "      <td>3</td>\n",
       "      <td>letters3/</td>\n",
       "      <td>[1.0, 0.0, 0.0, 0.0, 0.0, 0.0, 0.0, 0.0, 0.0, ...</td>\n",
       "      <td>[0.0, 0.0, 0.0, 1.0]</td>\n",
       "    </tr>\n",
       "  </tbody>\n",
       "</table>\n",
       "</div>"
      ],
      "text/plain": [
       "      letter  label        file  background     source  \\\n",
       "6491       щ     27  27_212.png           2  letters2/   \n",
       "2012       в      3   03_53.png           2  letters2/   \n",
       "13295      ы     29  29_336.png           3  letters3/   \n",
       "11270      с     19  19_311.png           3  letters3/   \n",
       "12837      щ     27  27_278.png           3  letters3/   \n",
       "\n",
       "                                              enc_letter        enc_background  \n",
       "6491   [1.0, 0.0, 0.0, 0.0, 0.0, 0.0, 0.0, 0.0, 0.0, ...  [0.0, 0.0, 1.0, 0.0]  \n",
       "2012   [0.0, 1.0, 0.0, 0.0, 0.0, 0.0, 0.0, 0.0, 0.0, ...  [0.0, 0.0, 1.0, 0.0]  \n",
       "13295  [0.0, 0.0, 1.0, 0.0, 0.0, 0.0, 0.0, 0.0, 0.0, ...  [0.0, 0.0, 0.0, 1.0]  \n",
       "11270  [0.0, 0.0, 0.0, 1.0, 0.0, 0.0, 0.0, 0.0, 0.0, ...  [0.0, 0.0, 0.0, 1.0]  \n",
       "12837  [1.0, 0.0, 0.0, 0.0, 0.0, 0.0, 0.0, 0.0, 0.0, ...  [0.0, 0.0, 0.0, 1.0]  "
      ]
     },
     "execution_count": 11,
     "metadata": {},
     "output_type": "execute_result"
    }
   ],
   "source": [
    "data['enc_letter'] = data['letter'].apply(ohe_letter)\n",
    "data['enc_background'] = data['background'].apply(ohe_background)\n",
    "data.head()"
   ]
  },
  {
   "cell_type": "markdown",
   "metadata": {
    "id": "OL1vHszz3Loh",
    "papermill": {
     "duration": 0.029035,
     "end_time": "2021-01-09T15:15:23.300514",
     "exception": false,
     "start_time": "2021-01-09T15:15:23.271479",
     "status": "completed"
    },
    "tags": []
   },
   "source": [
    "### Image preprocessing"
   ]
  },
  {
   "cell_type": "code",
   "execution_count": 12,
   "metadata": {
    "execution": {
     "iopub.execute_input": "2021-01-09T15:15:23.362960Z",
     "iopub.status.busy": "2021-01-09T15:15:23.362444Z",
     "iopub.status.idle": "2021-01-09T15:15:23.572613Z",
     "shell.execute_reply": "2021-01-09T15:15:23.572168Z"
    },
    "executionInfo": {
     "elapsed": 620,
     "status": "ok",
     "timestamp": 1605813926914,
     "user": {
      "displayName": "Maya Bikmetova",
      "photoUrl": "https://lh5.googleusercontent.com/-QRgiu4M7ecc/AAAAAAAAAAI/AAAAAAAAAK8/sZiY_g9q3yY/s64/photo.jpg",
      "userId": "15065936059830327605"
     },
     "user_tz": -300
    },
    "id": "4WZldwyyiaqE",
    "outputId": "52c5f24b-57e6-4c41-ee74-9e72c6c22668",
    "papermill": {
     "duration": 0.243832,
     "end_time": "2021-01-09T15:15:23.572715",
     "exception": false,
     "start_time": "2021-01-09T15:15:23.328883",
     "status": "completed"
    },
    "tags": []
   },
   "outputs": [
    {
     "data": {
      "text/plain": [
       "<matplotlib.image.AxesImage at 0x7f92d6a16f50>"
      ]
     },
     "execution_count": 12,
     "metadata": {},
     "output_type": "execute_result"
    },
    {
     "data": {
      "image/png": "[encoded data removed]",
      "text/plain": [
       "<Figure size 432x288 with 1 Axes>"
      ]
     },
     "metadata": {
      "needs_background": "light"
     },
     "output_type": "display_data"
    }
   ],
   "source": [
    "# set the image size\n",
    "img_width, img_height = 32, 32\n",
    "input_shape = (img_width, img_height, 3) # 3 - число каналов\n",
    "\n",
    "# let's look at one of the images\n",
    "image_file_name = folder + 'letters2/27_212.png'\n",
    "img = image.load_img(image_file_name, target_size=(img_width, img_height))\n",
    "plt.imshow(img)"
   ]
  },
  {
   "cell_type": "code",
   "execution_count": 13,
   "metadata": {
    "execution": {
     "iopub.execute_input": "2021-01-09T15:15:23.640571Z",
     "iopub.status.busy": "2021-01-09T15:15:23.639643Z",
     "iopub.status.idle": "2021-01-09T15:18:06.163922Z",
     "shell.execute_reply": "2021-01-09T15:18:06.164743Z"
    },
    "executionInfo": {
     "elapsed": 35897,
     "status": "ok",
     "timestamp": 1605813610454,
     "user": {
      "displayName": "Maya Bikmetova",
      "photoUrl": "https://lh5.googleusercontent.com/-QRgiu4M7ecc/AAAAAAAAAAI/AAAAAAAAAK8/sZiY_g9q3yY/s64/photo.jpg",
      "userId": "15065936059830327605"
     },
     "user_tz": -300
    },
    "id": "3GiRmDurko1A",
    "papermill": {
     "duration": 162.562692,
     "end_time": "2021-01-09T15:18:06.164970",
     "exception": false,
     "start_time": "2021-01-09T15:15:23.602278",
     "status": "completed"
    },
    "tags": []
   },
   "outputs": [],
   "source": [
    "# Store all png images into one numpy array\n",
    "images = []\n",
    "\n",
    "# Will be the target\n",
    "encoded_labels = []\n",
    "\n",
    "backgrounds = []\n",
    "encoded_backgrounds = []\n",
    "\n",
    "# Want to be sure that every image is consitent\n",
    "for i, row in data.iterrows():\n",
    "    img_name = row['file']\n",
    "    numpy_image = cv2.imread(os.path.join(folder + row['source'], img_name))\n",
    "    if numpy_image.shape == (32, 32, 3):\n",
    "        images.append(numpy_image)\n",
    "        encoded_labels.append(row['enc_letter'])\n",
    "        backgrounds.append(row['background'])\n",
    "        encoded_backgrounds.append(row['enc_background'])\n",
    "        \n",
    "# Normalize array of images\n",
    "images = np.array(images)/255"
   ]
  },
  {
   "cell_type": "code",
   "execution_count": 14,
   "metadata": {
    "execution": {
     "iopub.execute_input": "2021-01-09T15:18:06.268343Z",
     "iopub.status.busy": "2021-01-09T15:18:06.267646Z",
     "iopub.status.idle": "2021-01-09T15:18:06.272443Z",
     "shell.execute_reply": "2021-01-09T15:18:06.273225Z"
    },
    "executionInfo": {
     "elapsed": 908,
     "status": "ok",
     "timestamp": 1605813645634,
     "user": {
      "displayName": "Maya Bikmetova",
      "photoUrl": "https://lh5.googleusercontent.com/-QRgiu4M7ecc/AAAAAAAAAAI/AAAAAAAAAK8/sZiY_g9q3yY/s64/photo.jpg",
      "userId": "15065936059830327605"
     },
     "user_tz": -300
    },
    "id": "aDUGR85q82tS",
    "outputId": "90c57575-cb40-435c-eec7-20b68b7937a5",
    "papermill": {
     "duration": 0.058986,
     "end_time": "2021-01-09T15:18:06.273390",
     "exception": false,
     "start_time": "2021-01-09T15:18:06.214404",
     "status": "completed"
    },
    "tags": []
   },
   "outputs": [
    {
     "data": {
      "text/plain": [
       "(14178, 14178)"
      ]
     },
     "execution_count": 14,
     "metadata": {},
     "output_type": "execute_result"
    }
   ],
   "source": [
    "len(images), len(encoded_labels)"
   ]
  },
  {
   "cell_type": "markdown",
   "metadata": {
    "papermill": {
     "duration": 0.053481,
     "end_time": "2021-01-09T15:18:06.381762",
     "exception": false,
     "start_time": "2021-01-09T15:18:06.328281",
     "status": "completed"
    },
    "tags": []
   },
   "source": [
    "## Creating train and test sets\n",
    "\n",
    "As we are dealing with the classification problem, it's important to make sure that the class distribution is consistent in both train and test sets.\n",
    "\n",
    "In order to control this, we will use `stratify` -- the parameter of `train_test_split` function."
   ]
  },
  {
   "cell_type": "code",
   "execution_count": 15,
   "metadata": {
    "execution": {
     "iopub.execute_input": "2021-01-09T15:18:06.492507Z",
     "iopub.status.busy": "2021-01-09T15:18:06.491671Z",
     "iopub.status.idle": "2021-01-09T15:18:07.785951Z",
     "shell.execute_reply": "2021-01-09T15:18:07.793644Z"
    },
    "executionInfo": {
     "elapsed": 1492,
     "status": "ok",
     "timestamp": 1605813673179,
     "user": {
      "displayName": "Maya Bikmetova",
      "photoUrl": "https://lh5.googleusercontent.com/-QRgiu4M7ecc/AAAAAAAAAAI/AAAAAAAAAK8/sZiY_g9q3yY/s64/photo.jpg",
      "userId": "15065936059830327605"
     },
     "user_tz": -300
    },
    "id": "49dv_jYXko38",
    "outputId": "a0ea68ae-b7af-4cee-ef5c-0a92024b74f8",
    "papermill": {
     "duration": 1.359859,
     "end_time": "2021-01-09T15:18:07.793828",
     "exception": false,
     "start_time": "2021-01-09T15:18:06.433969",
     "status": "completed"
    },
    "tags": []
   },
   "outputs": [
    {
     "data": {
      "text/plain": [
       "((11342, 32, 32, 3), (2836, 32, 32, 3), (11342, 33), (2836, 33))"
      ]
     },
     "execution_count": 15,
     "metadata": {},
     "output_type": "execute_result"
    }
   ],
   "source": [
    "X = np.array(images.copy())\n",
    "y = np.array(encoded_labels.copy())\n",
    "\n",
    "# Stratified train_test split on labels\n",
    "X_train, X_val, y_train, y_val = train_test_split(X, y, \n",
    "                                                  test_size=.2, \n",
    "                                                  stratify = y, \n",
    "                                                  random_state=42)\n",
    "\n",
    "X_train.shape, X_val.shape, y_train.shape, y_val.shape"
   ]
  },
  {
   "cell_type": "code",
   "execution_count": 16,
   "metadata": {
    "execution": {
     "iopub.execute_input": "2021-01-09T15:18:08.018117Z",
     "iopub.status.busy": "2021-01-09T15:18:08.017287Z",
     "iopub.status.idle": "2021-01-09T15:18:08.282822Z",
     "shell.execute_reply": "2021-01-09T15:18:08.283935Z"
    },
    "executionInfo": {
     "elapsed": 826,
     "status": "ok",
     "timestamp": 1605813793194,
     "user": {
      "displayName": "Maya Bikmetova",
      "photoUrl": "https://lh5.googleusercontent.com/-QRgiu4M7ecc/AAAAAAAAAAI/AAAAAAAAAK8/sZiY_g9q3yY/s64/photo.jpg",
      "userId": "15065936059830327605"
     },
     "user_tz": -300
    },
    "id": "6O7JXSfLko9G",
    "papermill": {
     "duration": 0.391553,
     "end_time": "2021-01-09T15:18:08.284120",
     "exception": false,
     "start_time": "2021-01-09T15:18:07.892567",
     "status": "completed"
    },
    "tags": []
   },
   "outputs": [],
   "source": [
    "#create generators\n",
    "datagen = ImageDataGenerator(rescale=1. / 255,\n",
    "                              rotation_range=40,\n",
    "                              width_shift_range=0.2,\n",
    "                              height_shift_range=0.2,\n",
    "                              zoom_range=0.2,\n",
    "                              horizontal_flip=True,\n",
    "                              fill_mode='nearest')\n",
    "datagen.fit(X_train)"
   ]
  },
  {
   "cell_type": "markdown",
   "metadata": {
    "id": "iessl7uO-Tsl",
    "papermill": {
     "duration": 0.094648,
     "end_time": "2021-01-09T15:18:08.486318",
     "exception": false,
     "start_time": "2021-01-09T15:18:08.391670",
     "status": "completed"
    },
    "tags": []
   },
   "source": [
    "## Configuring of CNN"
   ]
  },
  {
   "cell_type": "code",
   "execution_count": 17,
   "metadata": {
    "execution": {
     "iopub.execute_input": "2021-01-09T15:18:08.620279Z",
     "iopub.status.busy": "2021-01-09T15:18:08.619415Z",
     "iopub.status.idle": "2021-01-09T15:18:08.622378Z",
     "shell.execute_reply": "2021-01-09T15:18:08.621927Z"
    },
    "executionInfo": {
     "elapsed": 590,
     "status": "ok",
     "timestamp": 1605815568019,
     "user": {
      "displayName": "Maya Bikmetova",
      "photoUrl": "https://lh5.googleusercontent.com/-QRgiu4M7ecc/AAAAAAAAAAI/AAAAAAAAAK8/sZiY_g9q3yY/s64/photo.jpg",
      "userId": "15065936059830327605"
     },
     "user_tz": -300
    },
    "id": "WrZY7Sue-Z8o",
    "papermill": {
     "duration": 0.052475,
     "end_time": "2021-01-09T15:18:08.622467",
     "exception": false,
     "start_time": "2021-01-09T15:18:08.569992",
     "status": "completed"
    },
    "tags": []
   },
   "outputs": [],
   "source": [
    "# The shape of input tensors\n",
    "input_shape = (img_width, img_height, 3)\n",
    "\n",
    "# Number of classes to consider\n",
    "num_classes = len(letters)\n",
    "\n",
    "# Group of training samples\n",
    "batch_size = 64\n",
    "\n",
    "# Number of complete presentations of the dataset to be learned\n",
    "epochs = 100"
   ]
  },
  {
   "cell_type": "code",
   "execution_count": 18,
   "metadata": {
    "execution": {
     "iopub.execute_input": "2021-01-09T15:18:08.687371Z",
     "iopub.status.busy": "2021-01-09T15:18:08.686539Z",
     "iopub.status.idle": "2021-01-09T15:18:08.692580Z",
     "shell.execute_reply": "2021-01-09T15:18:08.694089Z"
    },
    "executionInfo": {
     "elapsed": 603,
     "status": "ok",
     "timestamp": 1605816778625,
     "user": {
      "displayName": "Maya Bikmetova",
      "photoUrl": "https://lh5.googleusercontent.com/-QRgiu4M7ecc/AAAAAAAAAAI/AAAAAAAAAK8/sZiY_g9q3yY/s64/photo.jpg",
      "userId": "15065936059830327605"
     },
     "user_tz": -300
    },
    "id": "QJAIlDFDIStJ",
    "papermill": {
     "duration": 0.041252,
     "end_time": "2021-01-09T15:18:08.694289",
     "exception": false,
     "start_time": "2021-01-09T15:18:08.653037",
     "status": "completed"
    },
    "tags": []
   },
   "outputs": [],
   "source": [
    "# custom metric\n",
    "def top_3_categorical_accuracy(y_true, y_pred):\n",
    "    return top_k_categorical_accuracy(y_true, y_pred, k=3)"
   ]
  },
  {
   "cell_type": "markdown",
   "metadata": {
    "papermill": {
     "duration": 0.036383,
     "end_time": "2021-01-09T15:18:08.781661",
     "exception": false,
     "start_time": "2021-01-09T15:18:08.745278",
     "status": "completed"
    },
    "tags": []
   },
   "source": [
    "Now we define our neural network and print its structure as an image."
   ]
  },
  {
   "cell_type": "code",
   "execution_count": 19,
   "metadata": {
    "execution": {
     "iopub.execute_input": "2021-01-09T15:18:08.851877Z",
     "iopub.status.busy": "2021-01-09T15:18:08.851340Z",
     "iopub.status.idle": "2021-01-09T15:18:12.121558Z",
     "shell.execute_reply": "2021-01-09T15:18:12.122018Z"
    },
    "executionInfo": {
     "elapsed": 1323,
     "status": "ok",
     "timestamp": 1605816779569,
     "user": {
      "displayName": "Maya Bikmetova",
      "photoUrl": "https://lh5.googleusercontent.com/-QRgiu4M7ecc/AAAAAAAAAAI/AAAAAAAAAK8/sZiY_g9q3yY/s64/photo.jpg",
      "userId": "15065936059830327605"
     },
     "user_tz": -300
    },
    "id": "DG2bp3LT-Z2s",
    "outputId": "2e26ecfb-143a-43d9-827b-1c181d74e397",
    "papermill": {
     "duration": 3.310514,
     "end_time": "2021-01-09T15:18:12.122169",
     "exception": false,
     "start_time": "2021-01-09T15:18:08.811655",
     "status": "completed"
    },
    "tags": []
   },
   "outputs": [
    {
     "name": "stdout",
     "output_type": "stream",
     "text": [
      "Model: \"sequential\"\n",
      "_________________________________________________________________\n",
      "Layer (type)                 Output Shape              Param #   \n",
      "=================================================================\n",
      "conv2d (Conv2D)              (None, 30, 30, 32)        896       \n",
      "_________________________________________________________________\n",
      "conv2d_1 (Conv2D)            (None, 28, 28, 64)        18496     \n",
      "_________________________________________________________________\n",
      "conv2d_2 (Conv2D)            (None, 25, 25, 128)       131200    \n",
      "_________________________________________________________________\n",
      "max_pooling2d (MaxPooling2D) (None, 12, 12, 128)       0         \n",
      "_________________________________________________________________\n",
      "dropout (Dropout)            (None, 12, 12, 128)       0         \n",
      "_________________________________________________________________\n",
      "flatten (Flatten)            (None, 18432)             0         \n",
      "_________________________________________________________________\n",
      "dense (Dense)                (None, 128)               2359424   \n",
      "_________________________________________________________________\n",
      "dropout_1 (Dropout)          (None, 128)               0         \n",
      "_________________________________________________________________\n",
      "dense_1 (Dense)              (None, 33)                4257      \n",
      "=================================================================\n",
      "Total params: 2,514,273\n",
      "Trainable params: 2,514,273\n",
      "Non-trainable params: 0\n",
      "_________________________________________________________________\n"
     ]
    },
    {
     "data": {
      "image/png": "[encoded data removed]",
      "text/plain": [
       "<IPython.core.display.Image object>"
      ]
     },
     "execution_count": 19,
     "metadata": {},
     "output_type": "execute_result"
    }
   ],
   "source": [
    "model = Sequential()\n",
    "model.add(Conv2D(32, kernel_size = (3, 3), activation = 'relu', input_shape = input_shape))\n",
    "model.add(Conv2D(64, (3, 3), activation = 'relu'))\n",
    "model.add(Conv2D(128, (4, 4), activation = 'relu'))\n",
    "model.add(MaxPooling2D(pool_size = (2, 2)))\n",
    "model.add(Dropout(0.25))\n",
    "model.add(Flatten())\n",
    "model.add(Dense(128, activation = 'relu'))\n",
    "model.add(Dropout(0.25))\n",
    "model.add(Dense(num_classes, activation = 'softmax'))\n",
    "\n",
    "# Compile the model\n",
    "model.compile(loss = 'categorical_crossentropy', optimizer = 'adam', metrics = ['accuracy', top_3_categorical_accuracy])\n",
    "model.summary()\n",
    "plot_model(model, expand_nested=True, show_shapes=True, show_layer_names=False)"
   ]
  },
  {
   "cell_type": "markdown",
   "metadata": {
    "papermill": {
     "duration": 0.031489,
     "end_time": "2021-01-09T15:18:12.187732",
     "exception": false,
     "start_time": "2021-01-09T15:18:12.156243",
     "status": "completed"
    },
    "tags": []
   },
   "source": [
    "In the following cell, we define the callbacks that will make our life a bit easier:\n",
    "- `ReduceLROnPlateau` will automatically reduce learning rate when a metric has stopped improving\n",
    "- `ModelCheckpoint` will save the best model to disk so we can re-use it later.\n",
    "\n"
   ]
  },
  {
   "cell_type": "code",
   "execution_count": 20,
   "metadata": {
    "execution": {
     "iopub.execute_input": "2021-01-09T15:18:12.257584Z",
     "iopub.status.busy": "2021-01-09T15:18:12.256864Z",
     "iopub.status.idle": "2021-01-09T15:18:12.261330Z",
     "shell.execute_reply": "2021-01-09T15:18:12.260832Z"
    },
    "executionInfo": {
     "elapsed": 431,
     "status": "ok",
     "timestamp": 1605816673961,
     "user": {
      "displayName": "Maya Bikmetova",
      "photoUrl": "https://lh5.googleusercontent.com/-QRgiu4M7ecc/AAAAAAAAAAI/AAAAAAAAAK8/sZiY_g9q3yY/s64/photo.jpg",
      "userId": "15065936059830327605"
     },
     "user_tz": -300
    },
    "id": "33dX3YTsAq-m",
    "papermill": {
     "duration": 0.041943,
     "end_time": "2021-01-09T15:18:12.261430",
     "exception": false,
     "start_time": "2021-01-09T15:18:12.219487",
     "status": "completed"
    },
    "tags": []
   },
   "outputs": [],
   "source": [
    "lr_reduction = ReduceLROnPlateau(monitor='val_loss', \n",
    "                                 patience=10, \n",
    "                                 verbose=2, \n",
    "                                 factor=.75)\n",
    "\n",
    "\n",
    "model_checkpoint= ModelCheckpoint(disk_folder+\"/best_result_checkpoint\", monitor='val_loss', save_best_only=True, verbose=0)\n",
    "\n"
   ]
  },
  {
   "cell_type": "markdown",
   "metadata": {
    "papermill": {
     "duration": 0.031795,
     "end_time": "2021-01-09T15:18:12.325182",
     "exception": false,
     "start_time": "2021-01-09T15:18:12.293387",
     "status": "completed"
    },
    "tags": []
   },
   "source": [
    "Finally, it's time to train our CNN.\n",
    "\n",
    "Make sure you have enabled GPU, as the training will take a considerable amount of time!"
   ]
  },
  {
   "cell_type": "code",
   "execution_count": 21,
   "metadata": {
    "execution": {
     "iopub.execute_input": "2021-01-09T15:18:12.395827Z",
     "iopub.status.busy": "2021-01-09T15:18:12.394953Z",
     "iopub.status.idle": "2021-01-09T15:21:19.724951Z",
     "shell.execute_reply": "2021-01-09T15:21:19.726114Z"
    },
    "executionInfo": {
     "elapsed": 249457,
     "status": "ok",
     "timestamp": 1605817035099,
     "user": {
      "displayName": "Maya Bikmetova",
      "photoUrl": "https://lh5.googleusercontent.com/-QRgiu4M7ecc/AAAAAAAAAAI/AAAAAAAAAK8/sZiY_g9q3yY/s64/photo.jpg",
      "userId": "15065936059830327605"
     },
     "user_tz": -300
    },
    "id": "4FjOFTF926o0",
    "outputId": "bd666960-708a-4912-98a6-2c0fb954449b",
    "papermill": {
     "duration": 187.369441,
     "end_time": "2021-01-09T15:21:19.726328",
     "exception": false,
     "start_time": "2021-01-09T15:18:12.356887",
     "status": "completed"
    },
    "tags": []
   },
   "outputs": [
    {
     "name": "stdout",
     "output_type": "stream",
     "text": [
      "Epoch 1/100\n",
      "178/178 [==============================] - 3s 18ms/step - loss: 3.4801 - accuracy: 0.0399 - top_3_categorical_accuracy: 0.1131 - val_loss: 3.3920 - val_accuracy: 0.0793 - val_top_3_categorical_accuracy: 0.1883\n",
      "Epoch 2/100\n",
      "178/178 [==============================] - 3s 16ms/step - loss: 2.8848 - accuracy: 0.1869 - top_3_categorical_accuracy: 0.3931 - val_loss: 2.2827 - val_accuracy: 0.3565 - val_top_3_categorical_accuracy: 0.5945\n",
      "Epoch 3/100\n",
      "178/178 [==============================] - 3s 15ms/step - loss: 2.3200 - accuracy: 0.3383 - top_3_categorical_accuracy: 0.5760 - val_loss: 2.0015 - val_accuracy: 0.4489 - val_top_3_categorical_accuracy: 0.6848\n",
      "Epoch 4/100\n",
      "178/178 [==============================] - 3s 15ms/step - loss: 1.9692 - accuracy: 0.4297 - top_3_categorical_accuracy: 0.6669 - val_loss: 1.6404 - val_accuracy: 0.5504 - val_top_3_categorical_accuracy: 0.7627\n",
      "Epoch 5/100\n",
      "178/178 [==============================] - 3s 16ms/step - loss: 1.6683 - accuracy: 0.5120 - top_3_categorical_accuracy: 0.7440 - val_loss: 1.3247 - val_accuracy: 0.6276 - val_top_3_categorical_accuracy: 0.8159\n",
      "Epoch 6/100\n",
      "178/178 [==============================] - 3s 15ms/step - loss: 1.4540 - accuracy: 0.5675 - top_3_categorical_accuracy: 0.7916 - val_loss: 1.1652 - val_accuracy: 0.6774 - val_top_3_categorical_accuracy: 0.8459\n",
      "Epoch 7/100\n",
      "178/178 [==============================] - 3s 16ms/step - loss: 1.2887 - accuracy: 0.6189 - top_3_categorical_accuracy: 0.8238 - val_loss: 1.0087 - val_accuracy: 0.7169 - val_top_3_categorical_accuracy: 0.8766\n",
      "Epoch 8/100\n",
      "178/178 [==============================] - 2s 9ms/step - loss: 1.1628 - accuracy: 0.6534 - top_3_categorical_accuracy: 0.8495 - val_loss: 1.0127 - val_accuracy: 0.7084 - val_top_3_categorical_accuracy: 0.8762\n",
      "Epoch 9/100\n",
      "178/178 [==============================] - 3s 19ms/step - loss: 1.0388 - accuracy: 0.6881 - top_3_categorical_accuracy: 0.8717 - val_loss: 0.8557 - val_accuracy: 0.7574 - val_top_3_categorical_accuracy: 0.9023\n",
      "Epoch 10/100\n",
      "178/178 [==============================] - 2s 9ms/step - loss: 0.9578 - accuracy: 0.7041 - top_3_categorical_accuracy: 0.8864 - val_loss: 0.8765 - val_accuracy: 0.7482 - val_top_3_categorical_accuracy: 0.9020\n",
      "Epoch 11/100\n",
      "178/178 [==============================] - 3s 15ms/step - loss: 0.9057 - accuracy: 0.7251 - top_3_categorical_accuracy: 0.8956 - val_loss: 0.8264 - val_accuracy: 0.7662 - val_top_3_categorical_accuracy: 0.9108\n",
      "Epoch 12/100\n",
      "178/178 [==============================] - 3s 15ms/step - loss: 0.8504 - accuracy: 0.7394 - top_3_categorical_accuracy: 0.9044 - val_loss: 0.7609 - val_accuracy: 0.7874 - val_top_3_categorical_accuracy: 0.9175\n",
      "Epoch 13/100\n",
      "178/178 [==============================] - 3s 16ms/step - loss: 0.7868 - accuracy: 0.7548 - top_3_categorical_accuracy: 0.9149 - val_loss: 0.7361 - val_accuracy: 0.7927 - val_top_3_categorical_accuracy: 0.9224\n",
      "Epoch 14/100\n",
      "178/178 [==============================] - 3s 17ms/step - loss: 0.7506 - accuracy: 0.7605 - top_3_categorical_accuracy: 0.9215 - val_loss: 0.7181 - val_accuracy: 0.8018 - val_top_3_categorical_accuracy: 0.9210\n",
      "Epoch 15/100\n",
      "178/178 [==============================] - 3s 15ms/step - loss: 0.7186 - accuracy: 0.7727 - top_3_categorical_accuracy: 0.9296 - val_loss: 0.6684 - val_accuracy: 0.8103 - val_top_3_categorical_accuracy: 0.9316\n",
      "Epoch 16/100\n",
      "178/178 [==============================] - 2s 9ms/step - loss: 0.6486 - accuracy: 0.7943 - top_3_categorical_accuracy: 0.9380 - val_loss: 0.7012 - val_accuracy: 0.7983 - val_top_3_categorical_accuracy: 0.9228\n",
      "Epoch 17/100\n",
      "178/178 [==============================] - 2s 9ms/step - loss: 0.6477 - accuracy: 0.7971 - top_3_categorical_accuracy: 0.9400 - val_loss: 0.6694 - val_accuracy: 0.8092 - val_top_3_categorical_accuracy: 0.9277\n",
      "Epoch 18/100\n",
      "178/178 [==============================] - 3s 16ms/step - loss: 0.6105 - accuracy: 0.8064 - top_3_categorical_accuracy: 0.9424 - val_loss: 0.6491 - val_accuracy: 0.8106 - val_top_3_categorical_accuracy: 0.9316\n",
      "Epoch 19/100\n",
      "178/178 [==============================] - 2s 8ms/step - loss: 0.6063 - accuracy: 0.8057 - top_3_categorical_accuracy: 0.9422 - val_loss: 0.6662 - val_accuracy: 0.8043 - val_top_3_categorical_accuracy: 0.9337\n",
      "Epoch 20/100\n",
      "178/178 [==============================] - 2s 9ms/step - loss: 0.5547 - accuracy: 0.8192 - top_3_categorical_accuracy: 0.9511 - val_loss: 0.6808 - val_accuracy: 0.8064 - val_top_3_categorical_accuracy: 0.9291\n",
      "Epoch 21/100\n",
      "178/178 [==============================] - 2s 9ms/step - loss: 0.5241 - accuracy: 0.8327 - top_3_categorical_accuracy: 0.9547 - val_loss: 0.6708 - val_accuracy: 0.8156 - val_top_3_categorical_accuracy: 0.9327\n",
      "Epoch 22/100\n",
      "178/178 [==============================] - 3s 16ms/step - loss: 0.5135 - accuracy: 0.8331 - top_3_categorical_accuracy: 0.9581 - val_loss: 0.6168 - val_accuracy: 0.8248 - val_top_3_categorical_accuracy: 0.9386\n",
      "Epoch 23/100\n",
      "178/178 [==============================] - 2s 10ms/step - loss: 0.4896 - accuracy: 0.8417 - top_3_categorical_accuracy: 0.9606 - val_loss: 0.6553 - val_accuracy: 0.8188 - val_top_3_categorical_accuracy: 0.9372\n",
      "Epoch 24/100\n",
      "178/178 [==============================] - 4s 21ms/step - loss: 0.4731 - accuracy: 0.8486 - top_3_categorical_accuracy: 0.9628 - val_loss: 0.6052 - val_accuracy: 0.8315 - val_top_3_categorical_accuracy: 0.9376\n",
      "Epoch 25/100\n",
      "178/178 [==============================] - 3s 15ms/step - loss: 0.4453 - accuracy: 0.8578 - top_3_categorical_accuracy: 0.9652 - val_loss: 0.5993 - val_accuracy: 0.8353 - val_top_3_categorical_accuracy: 0.9404\n",
      "Epoch 26/100\n",
      "178/178 [==============================] - 2s 9ms/step - loss: 0.4304 - accuracy: 0.8573 - top_3_categorical_accuracy: 0.9690 - val_loss: 0.6005 - val_accuracy: 0.8357 - val_top_3_categorical_accuracy: 0.9450\n",
      "Epoch 27/100\n",
      "178/178 [==============================] - 2s 9ms/step - loss: 0.4247 - accuracy: 0.8593 - top_3_categorical_accuracy: 0.9668 - val_loss: 0.6040 - val_accuracy: 0.8346 - val_top_3_categorical_accuracy: 0.9418\n",
      "Epoch 28/100\n",
      "178/178 [==============================] - 2s 9ms/step - loss: 0.3962 - accuracy: 0.8664 - top_3_categorical_accuracy: 0.9731 - val_loss: 0.6395 - val_accuracy: 0.8283 - val_top_3_categorical_accuracy: 0.9394\n",
      "Epoch 29/100\n",
      "178/178 [==============================] - 2s 9ms/step - loss: 0.3973 - accuracy: 0.8681 - top_3_categorical_accuracy: 0.9726 - val_loss: 0.6146 - val_accuracy: 0.8307 - val_top_3_categorical_accuracy: 0.9394\n",
      "Epoch 30/100\n",
      "178/178 [==============================] - 2s 9ms/step - loss: 0.3921 - accuracy: 0.8722 - top_3_categorical_accuracy: 0.9734 - val_loss: 0.6093 - val_accuracy: 0.8367 - val_top_3_categorical_accuracy: 0.9411\n",
      "Epoch 31/100\n",
      "178/178 [==============================] - 2s 9ms/step - loss: 0.3854 - accuracy: 0.8746 - top_3_categorical_accuracy: 0.9749 - val_loss: 0.6205 - val_accuracy: 0.8350 - val_top_3_categorical_accuracy: 0.9432\n",
      "Epoch 32/100\n",
      "178/178 [==============================] - 2s 9ms/step - loss: 0.3635 - accuracy: 0.8799 - top_3_categorical_accuracy: 0.9749 - val_loss: 0.6347 - val_accuracy: 0.8463 - val_top_3_categorical_accuracy: 0.9482\n",
      "Epoch 33/100\n",
      "178/178 [==============================] - 2s 9ms/step - loss: 0.3379 - accuracy: 0.8876 - top_3_categorical_accuracy: 0.9781 - val_loss: 0.6179 - val_accuracy: 0.8427 - val_top_3_categorical_accuracy: 0.9457\n",
      "Epoch 34/100\n",
      "178/178 [==============================] - 2s 8ms/step - loss: 0.3426 - accuracy: 0.8861 - top_3_categorical_accuracy: 0.9803 - val_loss: 0.6518 - val_accuracy: 0.8389 - val_top_3_categorical_accuracy: 0.9415\n",
      "Epoch 35/100\n",
      "176/178 [============================>.] - ETA: 0s - loss: 0.3391 - accuracy: 0.8891 - top_3_categorical_accuracy: 0.9789\n",
      "Epoch 00035: ReduceLROnPlateau reducing learning rate to 0.0007500000356230885.\n",
      "178/178 [==============================] - 2s 9ms/step - loss: 0.3394 - accuracy: 0.8893 - top_3_categorical_accuracy: 0.9787 - val_loss: 0.6092 - val_accuracy: 0.8449 - val_top_3_categorical_accuracy: 0.9461\n",
      "Epoch 36/100\n",
      "178/178 [==============================] - 3s 15ms/step - loss: 0.3100 - accuracy: 0.8954 - top_3_categorical_accuracy: 0.9834 - val_loss: 0.5832 - val_accuracy: 0.8572 - val_top_3_categorical_accuracy: 0.9510\n",
      "Epoch 37/100\n",
      "178/178 [==============================] - 3s 15ms/step - loss: 0.2998 - accuracy: 0.9002 - top_3_categorical_accuracy: 0.9833 - val_loss: 0.5731 - val_accuracy: 0.8540 - val_top_3_categorical_accuracy: 0.9538\n",
      "Epoch 38/100\n",
      "178/178 [==============================] - 2s 9ms/step - loss: 0.2782 - accuracy: 0.9084 - top_3_categorical_accuracy: 0.9847 - val_loss: 0.6014 - val_accuracy: 0.8512 - val_top_3_categorical_accuracy: 0.9506\n",
      "Epoch 39/100\n",
      "178/178 [==============================] - 2s 9ms/step - loss: 0.2797 - accuracy: 0.9056 - top_3_categorical_accuracy: 0.9856 - val_loss: 0.6280 - val_accuracy: 0.8445 - val_top_3_categorical_accuracy: 0.9510\n",
      "Epoch 40/100\n",
      "178/178 [==============================] - 2s 9ms/step - loss: 0.2746 - accuracy: 0.9075 - top_3_categorical_accuracy: 0.9863 - val_loss: 0.6244 - val_accuracy: 0.8452 - val_top_3_categorical_accuracy: 0.9453\n",
      "Epoch 41/100\n",
      "178/178 [==============================] - 2s 9ms/step - loss: 0.2675 - accuracy: 0.9110 - top_3_categorical_accuracy: 0.9868 - val_loss: 0.6558 - val_accuracy: 0.8417 - val_top_3_categorical_accuracy: 0.9468\n",
      "Epoch 42/100\n",
      "178/178 [==============================] - 2s 10ms/step - loss: 0.2477 - accuracy: 0.9154 - top_3_categorical_accuracy: 0.9884 - val_loss: 0.5979 - val_accuracy: 0.8512 - val_top_3_categorical_accuracy: 0.9510\n",
      "Epoch 43/100\n",
      "178/178 [==============================] - 2s 9ms/step - loss: 0.2503 - accuracy: 0.9147 - top_3_categorical_accuracy: 0.9904 - val_loss: 0.6264 - val_accuracy: 0.8579 - val_top_3_categorical_accuracy: 0.9489\n",
      "Epoch 44/100\n",
      "178/178 [==============================] - 2s 9ms/step - loss: 0.2348 - accuracy: 0.9197 - top_3_categorical_accuracy: 0.9884 - val_loss: 0.6164 - val_accuracy: 0.8463 - val_top_3_categorical_accuracy: 0.9535\n",
      "Epoch 45/100\n",
      "178/178 [==============================] - 2s 9ms/step - loss: 0.2424 - accuracy: 0.9222 - top_3_categorical_accuracy: 0.9875 - val_loss: 0.6320 - val_accuracy: 0.8593 - val_top_3_categorical_accuracy: 0.9513\n",
      "Epoch 46/100\n",
      "178/178 [==============================] - 2s 9ms/step - loss: 0.2426 - accuracy: 0.9170 - top_3_categorical_accuracy: 0.9886 - val_loss: 0.6634 - val_accuracy: 0.8441 - val_top_3_categorical_accuracy: 0.9468\n",
      "Epoch 47/100\n",
      "176/178 [============================>.] - ETA: 0s - loss: 0.2351 - accuracy: 0.9217 - top_3_categorical_accuracy: 0.9890\n",
      "Epoch 00047: ReduceLROnPlateau reducing learning rate to 0.0005625000048894435.\n",
      "178/178 [==============================] - 2s 9ms/step - loss: 0.2357 - accuracy: 0.9214 - top_3_categorical_accuracy: 0.9888 - val_loss: 0.6610 - val_accuracy: 0.8403 - val_top_3_categorical_accuracy: 0.9471\n",
      "Epoch 48/100\n",
      "178/178 [==============================] - 2s 9ms/step - loss: 0.2188 - accuracy: 0.9263 - top_3_categorical_accuracy: 0.9912 - val_loss: 0.6238 - val_accuracy: 0.8575 - val_top_3_categorical_accuracy: 0.9475\n",
      "Epoch 49/100\n",
      "178/178 [==============================] - 2s 9ms/step - loss: 0.1967 - accuracy: 0.9355 - top_3_categorical_accuracy: 0.9919 - val_loss: 0.6159 - val_accuracy: 0.8516 - val_top_3_categorical_accuracy: 0.9510\n",
      "Epoch 50/100\n",
      "178/178 [==============================] - 2s 9ms/step - loss: 0.1970 - accuracy: 0.9372 - top_3_categorical_accuracy: 0.9915 - val_loss: 0.6284 - val_accuracy: 0.8508 - val_top_3_categorical_accuracy: 0.9531\n",
      "Epoch 51/100\n",
      "178/178 [==============================] - 2s 9ms/step - loss: 0.1930 - accuracy: 0.9357 - top_3_categorical_accuracy: 0.9926 - val_loss: 0.6243 - val_accuracy: 0.8544 - val_top_3_categorical_accuracy: 0.9482\n",
      "Epoch 52/100\n",
      "178/178 [==============================] - 2s 9ms/step - loss: 0.1878 - accuracy: 0.9364 - top_3_categorical_accuracy: 0.9931 - val_loss: 0.6094 - val_accuracy: 0.8547 - val_top_3_categorical_accuracy: 0.9496\n",
      "Epoch 53/100\n",
      "178/178 [==============================] - 2s 9ms/step - loss: 0.1904 - accuracy: 0.9334 - top_3_categorical_accuracy: 0.9928 - val_loss: 0.6267 - val_accuracy: 0.8575 - val_top_3_categorical_accuracy: 0.9503\n",
      "Epoch 54/100\n",
      "178/178 [==============================] - 2s 9ms/step - loss: 0.1965 - accuracy: 0.9330 - top_3_categorical_accuracy: 0.9925 - val_loss: 0.6419 - val_accuracy: 0.8547 - val_top_3_categorical_accuracy: 0.9517\n",
      "Epoch 55/100\n",
      "178/178 [==============================] - 2s 9ms/step - loss: 0.1816 - accuracy: 0.9394 - top_3_categorical_accuracy: 0.9920 - val_loss: 0.6461 - val_accuracy: 0.8523 - val_top_3_categorical_accuracy: 0.9513\n",
      "Epoch 56/100\n",
      "178/178 [==============================] - 2s 10ms/step - loss: 0.2061 - accuracy: 0.9339 - top_3_categorical_accuracy: 0.9915 - val_loss: 0.6366 - val_accuracy: 0.8487 - val_top_3_categorical_accuracy: 0.9485\n",
      "Epoch 57/100\n",
      "174/178 [============================>.] - ETA: 0s - loss: 0.1793 - accuracy: 0.9391 - top_3_categorical_accuracy: 0.9933\n",
      "Epoch 00057: ReduceLROnPlateau reducing learning rate to 0.0004218749818392098.\n",
      "178/178 [==============================] - 2s 9ms/step - loss: 0.1806 - accuracy: 0.9388 - top_3_categorical_accuracy: 0.9932 - val_loss: 0.6544 - val_accuracy: 0.8505 - val_top_3_categorical_accuracy: 0.9499\n",
      "Epoch 58/100\n",
      "178/178 [==============================] - 2s 9ms/step - loss: 0.1761 - accuracy: 0.9378 - top_3_categorical_accuracy: 0.9937 - val_loss: 0.6031 - val_accuracy: 0.8625 - val_top_3_categorical_accuracy: 0.9566\n",
      "Epoch 59/100\n",
      "178/178 [==============================] - 2s 9ms/step - loss: 0.1658 - accuracy: 0.9436 - top_3_categorical_accuracy: 0.9946 - val_loss: 0.6467 - val_accuracy: 0.8537 - val_top_3_categorical_accuracy: 0.9545\n",
      "Epoch 60/100\n",
      "178/178 [==============================] - 2s 9ms/step - loss: 0.1630 - accuracy: 0.9460 - top_3_categorical_accuracy: 0.9938 - val_loss: 0.6370 - val_accuracy: 0.8547 - val_top_3_categorical_accuracy: 0.9520\n",
      "Epoch 61/100\n",
      "178/178 [==============================] - 2s 9ms/step - loss: 0.1655 - accuracy: 0.9471 - top_3_categorical_accuracy: 0.9945 - val_loss: 0.6178 - val_accuracy: 0.8583 - val_top_3_categorical_accuracy: 0.9563\n",
      "Epoch 62/100\n",
      "178/178 [==============================] - 2s 12ms/step - loss: 0.1670 - accuracy: 0.9445 - top_3_categorical_accuracy: 0.9944 - val_loss: 0.6354 - val_accuracy: 0.8540 - val_top_3_categorical_accuracy: 0.9531\n",
      "Epoch 63/100\n",
      "178/178 [==============================] - 2s 9ms/step - loss: 0.1599 - accuracy: 0.9491 - top_3_categorical_accuracy: 0.9957 - val_loss: 0.6332 - val_accuracy: 0.8508 - val_top_3_categorical_accuracy: 0.9520\n",
      "Epoch 64/100\n",
      "178/178 [==============================] - 2s 8ms/step - loss: 0.1550 - accuracy: 0.9490 - top_3_categorical_accuracy: 0.9944 - val_loss: 0.6341 - val_accuracy: 0.8572 - val_top_3_categorical_accuracy: 0.9545\n",
      "Epoch 65/100\n",
      "178/178 [==============================] - 2s 9ms/step - loss: 0.1488 - accuracy: 0.9508 - top_3_categorical_accuracy: 0.9948 - val_loss: 0.6468 - val_accuracy: 0.8491 - val_top_3_categorical_accuracy: 0.9524\n",
      "Epoch 66/100\n",
      "178/178 [==============================] - 2s 9ms/step - loss: 0.1528 - accuracy: 0.9491 - top_3_categorical_accuracy: 0.9946 - val_loss: 0.6613 - val_accuracy: 0.8519 - val_top_3_categorical_accuracy: 0.9535\n",
      "Epoch 67/100\n",
      "176/178 [============================>.] - ETA: 0s - loss: 0.1510 - accuracy: 0.9519 - top_3_categorical_accuracy: 0.9952\n",
      "Epoch 00067: ReduceLROnPlateau reducing learning rate to 0.00031640623637940735.\n",
      "178/178 [==============================] - 2s 9ms/step - loss: 0.1519 - accuracy: 0.9515 - top_3_categorical_accuracy: 0.9951 - val_loss: 0.6482 - val_accuracy: 0.8554 - val_top_3_categorical_accuracy: 0.9549\n",
      "Epoch 68/100\n",
      "178/178 [==============================] - 2s 9ms/step - loss: 0.1443 - accuracy: 0.9530 - top_3_categorical_accuracy: 0.9957 - val_loss: 0.6471 - val_accuracy: 0.8583 - val_top_3_categorical_accuracy: 0.9538\n",
      "Epoch 69/100\n",
      "178/178 [==============================] - 2s 9ms/step - loss: 0.1331 - accuracy: 0.9545 - top_3_categorical_accuracy: 0.9957 - val_loss: 0.6652 - val_accuracy: 0.8607 - val_top_3_categorical_accuracy: 0.9524\n",
      "Epoch 70/100\n",
      "178/178 [==============================] - 2s 9ms/step - loss: 0.1344 - accuracy: 0.9552 - top_3_categorical_accuracy: 0.9953 - val_loss: 0.6540 - val_accuracy: 0.8597 - val_top_3_categorical_accuracy: 0.9517\n",
      "Epoch 71/100\n",
      "178/178 [==============================] - 2s 9ms/step - loss: 0.1402 - accuracy: 0.9553 - top_3_categorical_accuracy: 0.9952 - val_loss: 0.6470 - val_accuracy: 0.8611 - val_top_3_categorical_accuracy: 0.9549\n",
      "Epoch 72/100\n",
      "178/178 [==============================] - 2s 9ms/step - loss: 0.1296 - accuracy: 0.9565 - top_3_categorical_accuracy: 0.9963 - val_loss: 0.6578 - val_accuracy: 0.8604 - val_top_3_categorical_accuracy: 0.9542\n",
      "Epoch 73/100\n",
      "178/178 [==============================] - 2s 9ms/step - loss: 0.1369 - accuracy: 0.9542 - top_3_categorical_accuracy: 0.9961 - val_loss: 0.6650 - val_accuracy: 0.8572 - val_top_3_categorical_accuracy: 0.9528\n",
      "Epoch 74/100\n",
      "178/178 [==============================] - 2s 9ms/step - loss: 0.1363 - accuracy: 0.9552 - top_3_categorical_accuracy: 0.9959 - val_loss: 0.6328 - val_accuracy: 0.8572 - val_top_3_categorical_accuracy: 0.9552\n",
      "Epoch 75/100\n",
      "178/178 [==============================] - 2s 9ms/step - loss: 0.1365 - accuracy: 0.9526 - top_3_categorical_accuracy: 0.9960 - val_loss: 0.6673 - val_accuracy: 0.8590 - val_top_3_categorical_accuracy: 0.9566\n",
      "Epoch 76/100\n",
      "178/178 [==============================] - 2s 9ms/step - loss: 0.1375 - accuracy: 0.9526 - top_3_categorical_accuracy: 0.9959 - val_loss: 0.6584 - val_accuracy: 0.8540 - val_top_3_categorical_accuracy: 0.9531\n",
      "Epoch 77/100\n",
      "176/178 [============================>.] - ETA: 0s - loss: 0.1303 - accuracy: 0.9562 - top_3_categorical_accuracy: 0.9965\n",
      "Epoch 00077: ReduceLROnPlateau reducing learning rate to 0.00023730468819849193.\n",
      "178/178 [==============================] - 2s 9ms/step - loss: 0.1296 - accuracy: 0.9564 - top_3_categorical_accuracy: 0.9966 - val_loss: 0.6584 - val_accuracy: 0.8642 - val_top_3_categorical_accuracy: 0.9542\n",
      "Epoch 78/100\n",
      "178/178 [==============================] - 2s 9ms/step - loss: 0.1303 - accuracy: 0.9568 - top_3_categorical_accuracy: 0.9957 - val_loss: 0.6569 - val_accuracy: 0.8597 - val_top_3_categorical_accuracy: 0.9545\n",
      "Epoch 79/100\n",
      "178/178 [==============================] - 2s 9ms/step - loss: 0.1260 - accuracy: 0.9580 - top_3_categorical_accuracy: 0.9959 - val_loss: 0.6563 - val_accuracy: 0.8639 - val_top_3_categorical_accuracy: 0.9535\n",
      "Epoch 80/100\n",
      "178/178 [==============================] - 2s 9ms/step - loss: 0.1203 - accuracy: 0.9594 - top_3_categorical_accuracy: 0.9969 - val_loss: 0.6453 - val_accuracy: 0.8639 - val_top_3_categorical_accuracy: 0.9577\n",
      "Epoch 81/100\n",
      "178/178 [==============================] - 2s 9ms/step - loss: 0.1158 - accuracy: 0.9608 - top_3_categorical_accuracy: 0.9963 - val_loss: 0.6446 - val_accuracy: 0.8660 - val_top_3_categorical_accuracy: 0.9549\n",
      "Epoch 82/100\n",
      "178/178 [==============================] - 2s 9ms/step - loss: 0.1210 - accuracy: 0.9572 - top_3_categorical_accuracy: 0.9969 - val_loss: 0.6436 - val_accuracy: 0.8642 - val_top_3_categorical_accuracy: 0.9535\n",
      "Epoch 83/100\n",
      "178/178 [==============================] - 2s 12ms/step - loss: 0.1213 - accuracy: 0.9581 - top_3_categorical_accuracy: 0.9961 - val_loss: 0.6519 - val_accuracy: 0.8646 - val_top_3_categorical_accuracy: 0.9545\n",
      "Epoch 84/100\n",
      "178/178 [==============================] - 2s 9ms/step - loss: 0.1281 - accuracy: 0.9574 - top_3_categorical_accuracy: 0.9972 - val_loss: 0.6487 - val_accuracy: 0.8618 - val_top_3_categorical_accuracy: 0.9517\n",
      "Epoch 85/100\n",
      "178/178 [==============================] - 2s 9ms/step - loss: 0.1232 - accuracy: 0.9575 - top_3_categorical_accuracy: 0.9974 - val_loss: 0.6597 - val_accuracy: 0.8600 - val_top_3_categorical_accuracy: 0.9545\n",
      "Epoch 86/100\n",
      "178/178 [==============================] - 2s 9ms/step - loss: 0.1179 - accuracy: 0.9598 - top_3_categorical_accuracy: 0.9959 - val_loss: 0.6529 - val_accuracy: 0.8628 - val_top_3_categorical_accuracy: 0.9542\n",
      "Epoch 87/100\n",
      "176/178 [============================>.] - ETA: 0s - loss: 0.1257 - accuracy: 0.9606 - top_3_categorical_accuracy: 0.9953\n",
      "Epoch 00087: ReduceLROnPlateau reducing learning rate to 0.00017797851614886895.\n",
      "178/178 [==============================] - 2s 8ms/step - loss: 0.1253 - accuracy: 0.9609 - top_3_categorical_accuracy: 0.9953 - val_loss: 0.6495 - val_accuracy: 0.8650 - val_top_3_categorical_accuracy: 0.9549\n",
      "Epoch 88/100\n",
      "178/178 [==============================] - 2s 9ms/step - loss: 0.1063 - accuracy: 0.9651 - top_3_categorical_accuracy: 0.9974 - val_loss: 0.6505 - val_accuracy: 0.8597 - val_top_3_categorical_accuracy: 0.9552\n",
      "Epoch 89/100\n",
      "178/178 [==============================] - 2s 9ms/step - loss: 0.1172 - accuracy: 0.9626 - top_3_categorical_accuracy: 0.9962 - val_loss: 0.6633 - val_accuracy: 0.8664 - val_top_3_categorical_accuracy: 0.9559\n",
      "Epoch 90/100\n",
      "178/178 [==============================] - 2s 9ms/step - loss: 0.1095 - accuracy: 0.9621 - top_3_categorical_accuracy: 0.9977 - val_loss: 0.6642 - val_accuracy: 0.8671 - val_top_3_categorical_accuracy: 0.9566\n",
      "Epoch 91/100\n",
      "178/178 [==============================] - 2s 9ms/step - loss: 0.1066 - accuracy: 0.9635 - top_3_categorical_accuracy: 0.9976 - val_loss: 0.6612 - val_accuracy: 0.8678 - val_top_3_categorical_accuracy: 0.9556\n",
      "Epoch 92/100\n",
      "178/178 [==============================] - 2s 9ms/step - loss: 0.1004 - accuracy: 0.9667 - top_3_categorical_accuracy: 0.9975 - val_loss: 0.6593 - val_accuracy: 0.8590 - val_top_3_categorical_accuracy: 0.9559\n",
      "Epoch 93/100\n",
      "178/178 [==============================] - 2s 10ms/step - loss: 0.1082 - accuracy: 0.9631 - top_3_categorical_accuracy: 0.9970 - val_loss: 0.6674 - val_accuracy: 0.8628 - val_top_3_categorical_accuracy: 0.9556\n",
      "Epoch 94/100\n",
      "178/178 [==============================] - 2s 9ms/step - loss: 0.1052 - accuracy: 0.9635 - top_3_categorical_accuracy: 0.9974 - val_loss: 0.6603 - val_accuracy: 0.8625 - val_top_3_categorical_accuracy: 0.9566\n",
      "Epoch 95/100\n",
      "178/178 [==============================] - 2s 9ms/step - loss: 0.1044 - accuracy: 0.9647 - top_3_categorical_accuracy: 0.9974 - val_loss: 0.6796 - val_accuracy: 0.8621 - val_top_3_categorical_accuracy: 0.9559\n",
      "Epoch 96/100\n",
      "178/178 [==============================] - 2s 9ms/step - loss: 0.1060 - accuracy: 0.9642 - top_3_categorical_accuracy: 0.9972 - val_loss: 0.6794 - val_accuracy: 0.8635 - val_top_3_categorical_accuracy: 0.9542\n",
      "Epoch 97/100\n",
      "178/178 [==============================] - ETA: 0s - loss: 0.1042 - accuracy: 0.9640 - top_3_categorical_accuracy: 0.9975\n",
      "Epoch 00097: ReduceLROnPlateau reducing learning rate to 0.0001334838816546835.\n",
      "178/178 [==============================] - 2s 10ms/step - loss: 0.1042 - accuracy: 0.9640 - top_3_categorical_accuracy: 0.9975 - val_loss: 0.6815 - val_accuracy: 0.8614 - val_top_3_categorical_accuracy: 0.9538\n",
      "Epoch 98/100\n",
      "178/178 [==============================] - 2s 8ms/step - loss: 0.1073 - accuracy: 0.9624 - top_3_categorical_accuracy: 0.9969 - val_loss: 0.6732 - val_accuracy: 0.8646 - val_top_3_categorical_accuracy: 0.9531\n",
      "Epoch 99/100\n",
      "178/178 [==============================] - 2s 9ms/step - loss: 0.0979 - accuracy: 0.9659 - top_3_categorical_accuracy: 0.9977 - val_loss: 0.6735 - val_accuracy: 0.8621 - val_top_3_categorical_accuracy: 0.9528\n",
      "Epoch 100/100\n",
      "178/178 [==============================] - 2s 9ms/step - loss: 0.0989 - accuracy: 0.9669 - top_3_categorical_accuracy: 0.9977 - val_loss: 0.6756 - val_accuracy: 0.8618 - val_top_3_categorical_accuracy: 0.9535\n",
      "CPU times: user 2min 46s, sys: 14.1 s, total: 3min\n",
      "Wall time: 3min 7s\n"
     ]
    }
   ],
   "source": [
    "%%time\n",
    "\n",
    "history = model.fit(X_train, y_train,\n",
    "                    batch_size = batch_size,\n",
    "                    epochs = epochs,\n",
    "                    verbose = 1,\n",
    "                    validation_data = (X_val, y_val),\n",
    "                    callbacks = [model_checkpoint, lr_reduction])"
   ]
  },
  {
   "cell_type": "markdown",
   "metadata": {
    "papermill": {
     "duration": 0.822134,
     "end_time": "2021-01-09T15:21:21.382841",
     "exception": false,
     "start_time": "2021-01-09T15:21:20.560707",
     "status": "completed"
    },
    "tags": []
   },
   "source": [
    "## Plot the training info\n",
    "\n",
    "Let's look at the training process.\n",
    "\n",
    "This plot shows how the accuracy changed over epochs on both train and val sets."
   ]
  },
  {
   "cell_type": "code",
   "execution_count": 22,
   "metadata": {
    "execution": {
     "iopub.execute_input": "2021-01-09T15:21:23.001381Z",
     "iopub.status.busy": "2021-01-09T15:21:23.000085Z",
     "iopub.status.idle": "2021-01-09T15:21:23.161726Z",
     "shell.execute_reply": "2021-01-09T15:21:23.162218Z"
    },
    "executionInfo": {
     "elapsed": 1251,
     "status": "ok",
     "timestamp": 1605817244080,
     "user": {
      "displayName": "Maya Bikmetova",
      "photoUrl": "https://lh5.googleusercontent.com/-QRgiu4M7ecc/AAAAAAAAAAI/AAAAAAAAAK8/sZiY_g9q3yY/s64/photo.jpg",
      "userId": "15065936059830327605"
     },
     "user_tz": -300
    },
    "id": "qdeEOCEm26bO",
    "outputId": "99d41c4d-417d-4c18-909b-b4e461a66bea",
    "papermill": {
     "duration": 0.976128,
     "end_time": "2021-01-09T15:21:23.162348",
     "exception": false,
     "start_time": "2021-01-09T15:21:22.186220",
     "status": "completed"
    },
    "tags": []
   },
   "outputs": [
    {
     "name": "stdout",
     "output_type": "stream",
     "text": [
      "[0.039851877838373184, 0.18691588938236237, 0.33830010890960693, 0.42973020672798157, 0.5119908452033997, 0.5675365924835205, 0.6189384460449219, 0.6534121036529541, 0.6880620718002319, 0.7041085958480835, 0.7250925898551941, 0.7393757700920105, 0.7548051476478577, 0.7605360746383667, 0.772703230381012, 0.794304370880127, 0.7971257567405701, 0.8063833713531494, 0.8056780099868774, 0.8191676735877991, 0.8327455520629883, 0.8330982327461243, 0.8416504859924316, 0.8486157655715942, 0.8577852249145508, 0.8572562336921692, 0.8592841029167175, 0.8664256930351257, 0.8681008815765381, 0.8722447752952576, 0.8746252655982971, 0.8799153566360474, 0.8875859379768372, 0.8860871195793152, 0.8892611265182495, 0.8954328894615173, 0.900193989276886, 0.9083935618400574, 0.905572235584259, 0.9075118899345398, 0.9110386371612549, 0.91535884141922, 0.9147416949272156, 0.9196790456771851, 0.9222359657287598, 0.9170340299606323, 0.921442449092865, 0.9262916445732117, 0.9354611039161682, 0.9372244477272034, 0.9357256293296814, 0.9364309906959534, 0.9334332346916199, 0.9329923987388611, 0.9394286870956421, 0.9338740706443787, 0.9388114809989929, 0.9377534985542297, 0.9435725808143616, 0.9459530711174011, 0.9470992684364319, 0.9444542527198792, 0.9491271376609802, 0.9489508271217346, 0.9508023262023926, 0.9491271376609802, 0.9515076875686646, 0.9530065059661865, 0.9545053839683533, 0.9552107453346252, 0.955298900604248, 0.9565332531929016, 0.9542408585548401, 0.9552107453346252, 0.9525656700134277, 0.9525656700134277, 0.9564450979232788, 0.95679771900177, 0.9580320715904236, 0.9594427943229675, 0.9607653021812439, 0.957150399684906, 0.9581202864646912, 0.9574149250984192, 0.957503080368042, 0.9597954750061035, 0.9608534574508667, 0.965085506439209, 0.9626168012619019, 0.9620878100395203, 0.9634984731674194, 0.9666725397109985, 0.9631458520889282, 0.9634984731674194, 0.964732825756073, 0.9642038345336914, 0.9640275239944458, 0.9624404907226562, 0.9658790230751038, 0.9669370651245117]\n"
     ]
    },
    {
     "data": {
      "image/png": "[encoded data removed]",
      "text/plain": [
       "<Figure size 432x288 with 1 Axes>"
      ]
     },
     "metadata": {
      "needs_background": "light"
     },
     "output_type": "display_data"
    }
   ],
   "source": [
    "print(history.history['accuracy'])\n",
    "\n",
    "plt.plot(history.history['accuracy'],'--', label='accuracy on training set')\n",
    "plt.plot(history.history['val_accuracy'], label='accuracy on validation set')\n",
    "plt.xlabel('epoch')\n",
    "plt.ylabel('accuracy')\n",
    "plt.legend()\n",
    "plt.show()"
   ]
  },
  {
   "cell_type": "markdown",
   "metadata": {
    "papermill": {
     "duration": 1.36693,
     "end_time": "2021-01-09T15:21:25.640787",
     "exception": false,
     "start_time": "2021-01-09T15:21:24.273857",
     "status": "completed"
    },
    "tags": []
   },
   "source": [
    "We can also see how the loss was changing."
   ]
  },
  {
   "cell_type": "code",
   "execution_count": 23,
   "metadata": {
    "execution": {
     "iopub.execute_input": "2021-01-09T15:21:27.260621Z",
     "iopub.status.busy": "2021-01-09T15:21:27.251786Z",
     "iopub.status.idle": "2021-01-09T15:21:27.396832Z",
     "shell.execute_reply": "2021-01-09T15:21:27.397282Z"
    },
    "executionInfo": {
     "elapsed": 683,
     "status": "ok",
     "timestamp": 1605817295731,
     "user": {
      "displayName": "Maya Bikmetova",
      "photoUrl": "https://lh5.googleusercontent.com/-QRgiu4M7ecc/AAAAAAAAAAI/AAAAAAAAAK8/sZiY_g9q3yY/s64/photo.jpg",
      "userId": "15065936059830327605"
     },
     "user_tz": -300
    },
    "id": "mYnHyLOWko_4",
    "outputId": "32050747-d1e2-4a44-bfcc-18705f5ab006",
    "papermill": {
     "duration": 0.953396,
     "end_time": "2021-01-09T15:21:27.397407",
     "exception": false,
     "start_time": "2021-01-09T15:21:26.444011",
     "status": "completed"
    },
    "tags": []
   },
   "outputs": [
    {
     "data": {
      "image/png": "[encoded data removed]",
      "text/plain": [
       "<Figure size 432x288 with 1 Axes>"
      ]
     },
     "metadata": {
      "needs_background": "light"
     },
     "output_type": "display_data"
    }
   ],
   "source": [
    "plt.plot(history.history['loss'])\n",
    "plt.plot(history.history['val_loss'])\n",
    "plt.title('model loss')\n",
    "plt.ylabel('loss')\n",
    "plt.xlabel('epoch')\n",
    "plt.legend(['train', 'test'], loc='upper left')\n",
    "plt.show()"
   ]
  },
  {
   "cell_type": "markdown",
   "metadata": {
    "papermill": {
     "duration": 0.812913,
     "end_time": "2021-01-09T15:21:29.015872",
     "exception": false,
     "start_time": "2021-01-09T15:21:28.202959",
     "status": "completed"
    },
    "tags": []
   },
   "source": [
    "Finally, we can also see the change of the learning rate."
   ]
  },
  {
   "cell_type": "code",
   "execution_count": 24,
   "metadata": {
    "execution": {
     "iopub.execute_input": "2021-01-09T15:21:30.677122Z",
     "iopub.status.busy": "2021-01-09T15:21:30.675786Z",
     "iopub.status.idle": "2021-01-09T15:21:30.792387Z",
     "shell.execute_reply": "2021-01-09T15:21:30.792822Z"
    },
    "executionInfo": {
     "elapsed": 654,
     "status": "ok",
     "timestamp": 1605817358986,
     "user": {
      "displayName": "Maya Bikmetova",
      "photoUrl": "https://lh5.googleusercontent.com/-QRgiu4M7ecc/AAAAAAAAAAI/AAAAAAAAAK8/sZiY_g9q3yY/s64/photo.jpg",
      "userId": "15065936059830327605"
     },
     "user_tz": -300
    },
    "id": "sBHzXn0nKySM",
    "outputId": "08858eac-432f-4ca1-a798-803c69cc60e4",
    "papermill": {
     "duration": 0.965925,
     "end_time": "2021-01-09T15:21:30.792946",
     "exception": false,
     "start_time": "2021-01-09T15:21:29.827021",
     "status": "completed"
    },
    "tags": []
   },
   "outputs": [
    {
     "data": {
      "image/png": "[encoded data removed]",
      "text/plain": [
       "<Figure size 432x288 with 1 Axes>"
      ]
     },
     "metadata": {
      "needs_background": "light"
     },
     "output_type": "display_data"
    }
   ],
   "source": [
    "plt.plot(history.history['lr'])\n",
    "plt.title('learning rate')\n",
    "plt.ylabel('lr')\n",
    "plt.xlabel('epoch')\n",
    "plt.show()"
   ]
  },
  {
   "cell_type": "markdown",
   "metadata": {
    "papermill": {
     "duration": 0.809877,
     "end_time": "2021-01-09T15:21:32.411808",
     "exception": false,
     "start_time": "2021-01-09T15:21:31.601931",
     "status": "completed"
    },
    "tags": []
   },
   "source": [
    "Now let's restore model from the checkpoint it was saved to."
   ]
  },
  {
   "cell_type": "code",
   "execution_count": 25,
   "metadata": {
    "execution": {
     "iopub.execute_input": "2021-01-09T15:21:34.034650Z",
     "iopub.status.busy": "2021-01-09T15:21:34.033821Z",
     "iopub.status.idle": "2021-01-09T15:21:34.723888Z",
     "shell.execute_reply": "2021-01-09T15:21:34.724330Z"
    },
    "executionInfo": {
     "elapsed": 2183,
     "status": "ok",
     "timestamp": 1605817927077,
     "user": {
      "displayName": "Maya Bikmetova",
      "photoUrl": "https://lh5.googleusercontent.com/-QRgiu4M7ecc/AAAAAAAAAAI/AAAAAAAAAK8/sZiY_g9q3yY/s64/photo.jpg",
      "userId": "15065936059830327605"
     },
     "user_tz": -300
    },
    "id": "TwWjynatML7Z",
    "outputId": "d7dd3b78-c3c0-4525-f9a4-bc7cd8563793",
    "papermill": {
     "duration": 1.502348,
     "end_time": "2021-01-09T15:21:34.724465",
     "exception": false,
     "start_time": "2021-01-09T15:21:33.222117",
     "status": "completed"
    },
    "tags": []
   },
   "outputs": [
    {
     "name": "stdout",
     "output_type": "stream",
     "text": [
      "Model: \"sequential\"\n",
      "_________________________________________________________________\n",
      "Layer (type)                 Output Shape              Param #   \n",
      "=================================================================\n",
      "conv2d (Conv2D)              (None, 30, 30, 32)        896       \n",
      "_________________________________________________________________\n",
      "conv2d_1 (Conv2D)            (None, 28, 28, 64)        18496     \n",
      "_________________________________________________________________\n",
      "conv2d_2 (Conv2D)            (None, 25, 25, 128)       131200    \n",
      "_________________________________________________________________\n",
      "max_pooling2d (MaxPooling2D) (None, 12, 12, 128)       0         \n",
      "_________________________________________________________________\n",
      "dropout (Dropout)            (None, 12, 12, 128)       0         \n",
      "_________________________________________________________________\n",
      "flatten (Flatten)            (None, 18432)             0         \n",
      "_________________________________________________________________\n",
      "dense (Dense)                (None, 128)               2359424   \n",
      "_________________________________________________________________\n",
      "dropout_1 (Dropout)          (None, 128)               0         \n",
      "_________________________________________________________________\n",
      "dense_1 (Dense)              (None, 33)                4257      \n",
      "=================================================================\n",
      "Total params: 2,514,273\n",
      "Trainable params: 2,514,273\n",
      "Non-trainable params: 0\n",
      "_________________________________________________________________\n"
     ]
    },
    {
     "data": {
      "image/png": "[encoded data removed]",
      "text/plain": [
       "<IPython.core.display.Image object>"
      ]
     },
     "execution_count": 25,
     "metadata": {},
     "output_type": "execute_result"
    }
   ],
   "source": [
    "cnn_model=models.load_model(disk_folder+\"/best_result_checkpoint\",\n",
    "                            custom_objects={'top_3_categorical_accuracy':top_3_categorical_accuracy}) \n",
    "cnn_model.summary()\n",
    "plot_model(cnn_model, expand_nested=True, show_shapes=True, show_layer_names=False)"
   ]
  },
  {
   "cell_type": "markdown",
   "metadata": {
    "papermill": {
     "duration": 0.820209,
     "end_time": "2021-01-09T15:21:36.634613",
     "exception": false,
     "start_time": "2021-01-09T15:21:35.814404",
     "status": "completed"
    },
    "tags": []
   },
   "source": [
    "## Evaluating the model\n",
    "\n",
    "Let's evaluate the model performance on the test set."
   ]
  },
  {
   "cell_type": "code",
   "execution_count": 26,
   "metadata": {
    "execution": {
     "iopub.execute_input": "2021-01-09T15:21:38.310163Z",
     "iopub.status.busy": "2021-01-09T15:21:38.309089Z",
     "iopub.status.idle": "2021-01-09T15:21:38.811714Z",
     "shell.execute_reply": "2021-01-09T15:21:38.811071Z"
    },
    "executionInfo": {
     "elapsed": 1107,
     "status": "ok",
     "timestamp": 1605818082633,
     "user": {
      "displayName": "Maya Bikmetova",
      "photoUrl": "https://lh5.googleusercontent.com/-QRgiu4M7ecc/AAAAAAAAAAI/AAAAAAAAAK8/sZiY_g9q3yY/s64/photo.jpg",
      "userId": "15065936059830327605"
     },
     "user_tz": -300
    },
    "id": "Ojzh9hB5K_MH",
    "outputId": "bb6bcd57-0766-45f5-a697-c0dbc873da93",
    "papermill": {
     "duration": 1.365828,
     "end_time": "2021-01-09T15:21:38.811847",
     "exception": false,
     "start_time": "2021-01-09T15:21:37.446019",
     "status": "completed"
    },
    "tags": []
   },
   "outputs": [
    {
     "name": "stdout",
     "output_type": "stream",
     "text": [
      "89/89 [==============================] - 0s 3ms/step - loss: 0.5731 - accuracy: 0.8540 - top_3_categorical_accuracy: 0.9538\n",
      "loss 0.5731419920921326\n",
      "acc 0.8540197610855103\n",
      "top 3 category acc 0.9538081884384155\n"
     ]
    }
   ],
   "source": [
    "loss, acc, top3_cat_acc = cnn_model.evaluate(X_val, y_val)\n",
    "print(\"loss\", loss)\n",
    "print(\"acc\", acc)\n",
    "print(\"top 3 category acc\", top3_cat_acc)"
   ]
  },
  {
   "cell_type": "markdown",
   "metadata": {
    "papermill": {
     "duration": 0.81975,
     "end_time": "2021-01-09T15:21:40.469651",
     "exception": false,
     "start_time": "2021-01-09T15:21:39.649901",
     "status": "completed"
    },
    "tags": []
   },
   "source": [
    "### Plot the model's predictions on the test set\n",
    "\n",
    "And at last the most interesting part -- the model's predicitions!"
   ]
  },
  {
   "cell_type": "code",
   "execution_count": 27,
   "metadata": {
    "execution": {
     "iopub.execute_input": "2021-01-09T15:21:42.124806Z",
     "iopub.status.busy": "2021-01-09T15:21:42.123965Z",
     "iopub.status.idle": "2021-01-09T15:21:42.127866Z",
     "shell.execute_reply": "2021-01-09T15:21:42.127391Z"
    },
    "executionInfo": {
     "elapsed": 659,
     "status": "ok",
     "timestamp": 1605818401837,
     "user": {
      "displayName": "Maya Bikmetova",
      "photoUrl": "https://lh5.googleusercontent.com/-QRgiu4M7ecc/AAAAAAAAAAI/AAAAAAAAAK8/sZiY_g9q3yY/s64/photo.jpg",
      "userId": "15065936059830327605"
     },
     "user_tz": -300
    },
    "id": "JxtcqaW4LtSI",
    "papermill": {
     "duration": 0.840684,
     "end_time": "2021-01-09T15:21:42.127973",
     "exception": false,
     "start_time": "2021-01-09T15:21:41.287289",
     "status": "completed"
    },
    "tags": []
   },
   "outputs": [],
   "source": [
    "def get_true_label(path_filename, dataframe, column_to_get):\n",
    "    filename = os.path.basename(os.path.normpath(path_filename))\n",
    "    index_row = data[data['file']==filename].index[0]\n",
    "    return data.loc[index_row, column_to_get]\n",
    "\n",
    "\n",
    "def load_image(path_filename):\n",
    "\t# load the image\n",
    "\timg = load_img(path_filename, target_size=(32, 32))\n",
    "\t# convert to array\n",
    "\timg = img_to_array(img)\n",
    "\t# reshape into a single sample with 1 channel\n",
    "\timg = img.reshape(1, 32, 32, 3)\n",
    "\t# prepare pixel data\n",
    "\timg = img.astype('float32')\n",
    "\timg = img / 255.0\n",
    "\treturn img\n",
    "\n",
    "def load_random_images(number_of_images_to_load = 9):\n",
    "    images = []\n",
    "    true_labels = []\n",
    "    true_backgrounds = []\n",
    "    \n",
    "    which_folder = [random.randint(1,3) for _ in range(number_of_images_to_load)]\n",
    "    for index_folder in which_folder:\n",
    "        if index_folder == 1:\n",
    "            path = folder +'letters/'\n",
    "        else:\n",
    "            path = folder +'letters'+str(index_folder)+'/'\n",
    "        nb_files = len(os.listdir(path))\n",
    "        \n",
    "        index_image = random.randint(0, len(os.listdir(path)))\n",
    "        \n",
    "        image = load_image(path + os.listdir(path)[index_image])\n",
    "        label = get_true_label(path + os.listdir(path)[index_image], data, 'letter')\n",
    "        background = get_true_label(path + os.listdir(path)[index_image], data, 'background')\n",
    "\n",
    "        images.append(image)\n",
    "        true_labels.append(label)\n",
    "        true_backgrounds.append(background)\n",
    "        \n",
    "    return images, true_labels, true_backgrounds\n",
    "\n",
    "def classes_predictions(images_list_to_classify, true_labels, model):\n",
    "    \n",
    "    # plot first few images\n",
    "    plt.figure(figsize=(12,12))\n",
    "    for index, image in enumerate(images_list_to_classify):\n",
    "        \n",
    "        a_letter = model.predict_classes(image)\n",
    "        associated_letter = letters[a_letter[0]]\n",
    "        \n",
    "        # define subplot\n",
    "        plt.subplot(330 + 1 + index)\n",
    "        plt.title('Predicted Label: %s \\n'%associated_letter+\\\n",
    "                  'True Label: %s\\n'%true_labels[index],\n",
    "                 fontsize=18)\n",
    "        # plot raw pixel data\n",
    "        plt.imshow(image[0])\n",
    "        \n",
    "    plt.subplots_adjust(bottom = 0.001)  # the bottom of the subplots of the figure\n",
    "    plt.subplots_adjust(top = 0.99)\n",
    "        \n",
    "    # show the figure\n",
    "    plt.show()"
   ]
  },
  {
   "cell_type": "code",
   "execution_count": 28,
   "metadata": {
    "execution": {
     "iopub.execute_input": "2021-01-09T15:21:43.762145Z",
     "iopub.status.busy": "2021-01-09T15:21:43.761583Z",
     "iopub.status.idle": "2021-01-09T15:21:44.159075Z",
     "shell.execute_reply": "2021-01-09T15:21:44.158281Z"
    },
    "executionInfo": {
     "elapsed": 3060,
     "status": "ok",
     "timestamp": 1605818404994,
     "user": {
      "displayName": "Maya Bikmetova",
      "photoUrl": "https://lh5.googleusercontent.com/-QRgiu4M7ecc/AAAAAAAAAAI/AAAAAAAAAK8/sZiY_g9q3yY/s64/photo.jpg",
      "userId": "15065936059830327605"
     },
     "user_tz": -300
    },
    "id": "ozChFTvAOO_t",
    "papermill": {
     "duration": 1.215917,
     "end_time": "2021-01-09T15:21:44.159199",
     "exception": false,
     "start_time": "2021-01-09T15:21:42.943282",
     "status": "completed"
    },
    "tags": []
   },
   "outputs": [],
   "source": [
    "test_images, true_labels, true_backgrounds = load_random_images()"
   ]
  },
  {
   "cell_type": "code",
   "execution_count": 29,
   "metadata": {
    "execution": {
     "iopub.execute_input": "2021-01-09T15:21:45.822000Z",
     "iopub.status.busy": "2021-01-09T15:21:45.821172Z",
     "iopub.status.idle": "2021-01-09T15:21:47.647760Z",
     "shell.execute_reply": "2021-01-09T15:21:47.647060Z"
    },
    "executionInfo": {
     "elapsed": 2292,
     "status": "ok",
     "timestamp": 1605818425840,
     "user": {
      "displayName": "Maya Bikmetova",
      "photoUrl": "https://lh5.googleusercontent.com/-QRgiu4M7ecc/AAAAAAAAAAI/AAAAAAAAAK8/sZiY_g9q3yY/s64/photo.jpg",
      "userId": "15065936059830327605"
     },
     "user_tz": -300
    },
    "id": "nCJisNqEOPDz",
    "outputId": "d616e35f-c918-45b2-fdd7-9dd3315d95cb",
    "papermill": {
     "duration": 2.674605,
     "end_time": "2021-01-09T15:21:47.647872",
     "exception": false,
     "start_time": "2021-01-09T15:21:44.973267",
     "status": "completed"
    },
    "tags": []
   },
   "outputs": [
    {
     "data": {
      "image/png": "[encoded data removed]",
      "text/plain": [
       "<Figure size 864x864 with 9 Axes>"
      ]
     },
     "metadata": {
      "needs_background": "light"
     },
     "output_type": "display_data"
    }
   ],
   "source": [
    "classes_predictions(test_images, true_labels, cnn_model)"
   ]
  },
  {
   "cell_type": "markdown",
   "metadata": {
    "id": "VQhbLsHgLtKF",
    "papermill": {
     "duration": 0.827699,
     "end_time": "2021-01-09T15:21:49.295156",
     "exception": false,
     "start_time": "2021-01-09T15:21:48.467457",
     "status": "completed"
    },
    "tags": []
   },
   "source": [
    "## Saving the model\n",
    "\n",
    "When we are happy with the model's results, we can save the model to a file. We can also save weights and structure in different files."
   ]
  },
  {
   "cell_type": "code",
   "execution_count": 30,
   "metadata": {
    "execution": {
     "iopub.execute_input": "2021-01-09T15:21:50.934165Z",
     "iopub.status.busy": "2021-01-09T15:21:50.933248Z",
     "iopub.status.idle": "2021-01-09T15:21:50.966224Z",
     "shell.execute_reply": "2021-01-09T15:21:50.966888Z"
    },
    "executionInfo": {
     "elapsed": 638,
     "status": "ok",
     "timestamp": 1605818207064,
     "user": {
      "displayName": "Maya Bikmetova",
      "photoUrl": "https://lh5.googleusercontent.com/-QRgiu4M7ecc/AAAAAAAAAAI/AAAAAAAAAK8/sZiY_g9q3yY/s64/photo.jpg",
      "userId": "15065936059830327605"
     },
     "user_tz": -300
    },
    "id": "2s_x1vhkK_Qm",
    "outputId": "79ff1a4a-f067-430d-c0ba-f98b70b5cdc0",
    "papermill": {
     "duration": 0.85862,
     "end_time": "2021-01-09T15:21:50.967062",
     "exception": false,
     "start_time": "2021-01-09T15:21:50.108442",
     "status": "completed"
    },
    "tags": []
   },
   "outputs": [
    {
     "name": "stdout",
     "output_type": "stream",
     "text": [
      "saving done\n"
     ]
    }
   ],
   "source": [
    "#save model\n",
    "model_json = cnn_model.to_json()\n",
    "json_file = open(disk_folder+\"/my_model\" + \".json\", \"w\")\n",
    "#write structure\n",
    "json_file.write(model_json)\n",
    "json_file.close()\n",
    "# write wtights\n",
    "model.save_weights(disk_folder+\"/my_model\"+\".h5\")\n",
    "print(\"saving done\")"
   ]
  },
  {
   "cell_type": "markdown",
   "metadata": {
    "papermill": {
     "duration": 0.825784,
     "end_time": "2021-01-09T15:21:52.606560",
     "exception": false,
     "start_time": "2021-01-09T15:21:51.780776",
     "status": "completed"
    },
    "tags": []
   },
   "source": [
    "## That's it! Hope you find this quick notebook useful :)"
   ]
  }
 ],
 "metadata": {
  "kernelspec": {
   "display_name": "Python 3",
   "language": "python",
   "name": "python3"
  },
  "language_info": {
   "codemirror_mode": {
    "name": "ipython",
    "version": 3
   },
   "file_extension": ".py",
   "mimetype": "text/x-python",
   "name": "python",
   "nbconvert_exporter": "python",
   "pygments_lexer": "ipython3",
   "version": "3.7.9"
  },
  "papermill": {
   "duration": 404.175313,
   "end_time": "2021-01-09T15:21:54.807540",
   "environment_variables": {},
   "exception": null,
   "input_path": "__notebook__.ipynb",
   "output_path": "__notebook__.ipynb",
   "parameters": {},
   "start_time": "2021-01-09T15:15:10.632227",
   "version": "2.1.0"
  }
 },
 "nbformat": 4,
 "nbformat_minor": 4
}
